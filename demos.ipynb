{
 "cells": [
  {
   "cell_type": "markdown",
   "id": "3f786336",
   "metadata": {},
   "source": [
    "# Demos for Talk Working with Large Models in ONNX IR"
   ]
  },
  {
   "cell_type": "code",
   "execution_count": 1,
   "id": "1985be7f",
   "metadata": {},
   "outputs": [],
   "source": [
    "# Prepare environment\n",
    "\n",
    "# %pip install --upgrade onnxscript onnx-ir onnx-safetensors model-explorer-onnx onnxruntime"
   ]
  },
  {
   "cell_type": "markdown",
   "id": "bedf1490",
   "metadata": {},
   "source": [
    "## Demo 1: Safetensors in ONNX\n",
    "\n",
    "**Q1: Is there a way to use the safetensors format as an external data format for ONNX?**\n",
    "\n",
    "**A1:** Yes. The data is contiguous, row-major, and little-endian (same as ONNX). Data offset can be found by parsing the json header.\n",
    "\n",
    "<img src=\"resources/safetensors-format.svg\" width=\"500\"/>\n",
    "\n",
    "Image source: https://huggingface.co/docs/safetensors/en/index"
   ]
  },
  {
   "cell_type": "markdown",
   "id": "9337aa3c",
   "metadata": {},
   "source": [
    "**Q2: How do we do it efficiently?**\n",
    "\n",
    "**A2:** Use onnx_ir to replace the tensors."
   ]
  },
  {
   "cell_type": "code",
   "execution_count": 2,
   "id": "a54e0bdc",
   "metadata": {},
   "outputs": [
    {
     "name": "stdout",
     "output_type": "stream",
     "text": [
      "<\n",
      "    ir_version=10,\n",
      "    opset_imports={'': 21},\n",
      "    producer_name='onnx-safetensors-example',\n",
      "    producer_version=None,\n",
      "    domain=None,\n",
      "    model_version=None,\n",
      ">\n",
      "graph(\n",
      "    name=SimpleGraph,\n",
      "    inputs=(\n",
      "        %\"input\"<FLOAT,[1,3]>\n",
      "    ),\n",
      "    outputs=(\n",
      "        %\"output\"<FLOAT,[1,3]>\n",
      "    ),\n",
      "    initializers=(\n",
      "        %\"weights\"<FLOAT,[3]>{TensorProtoTensor<FLOAT,[3]>(array([1., 2., 3.], dtype=float32), name='weights')}\n",
      "    ),\n",
      ") {\n",
      "    0 |  # :anonymous_node:128221484870704\n",
      "         %\"output\"<FLOAT,[1,3]> ⬅️ ::Add(%\"input\", %\"weights\"{[1.0, 2.0, 3.0]})\n",
      "    return %\"output\"<FLOAT,[1,3]>\n",
      "}\n",
      "\n",
      "\n"
     ]
    }
   ],
   "source": [
    "import onnx_ir as ir\n",
    "\n",
    "model = ir.load(\"resources/model.textproto\")\n",
    "print(model)"
   ]
  },
  {
   "cell_type": "markdown",
   "id": "04626ef6",
   "metadata": {},
   "source": [
    "### Loading tensors from a safetensors file into an ONNX model"
   ]
  },
  {
   "cell_type": "markdown",
   "id": "cecd56d8",
   "metadata": {},
   "source": [
    "Use `load_file_as_external_data` to load safetensors as external data and replace weights in the model"
   ]
  },
  {
   "cell_type": "code",
   "execution_count": 5,
   "id": "72d642a5",
   "metadata": {},
   "outputs": [
    {
     "name": "stdout",
     "output_type": "stream",
     "text": [
      "<\n",
      "   ir_version: 10,\n",
      "   opset_import: [\"\" : 21],\n",
      "   producer_name: \"onnx-safetensors-example\"\n",
      ">\n",
      "SimpleGraph (float[1,3] input) => (float[1,3] output) \n",
      "   <float[3] weights = [\"location\": \"resources/weights.safetensors\", \"offset\": \"72\", \"length\": \"12\"], float[3] weights>\n",
      "{\n",
      "   output = Add (input, weights)\n",
      "}\n"
     ]
    }
   ],
   "source": [
    "import onnx_safetensors\n",
    "import onnx\n",
    "\n",
    "model_with_external_data = onnx_safetensors.load_file_as_external_data(\n",
    "    model,\n",
    "    \"resources/weights.safetensors\",  # weights containing [4, 5, 6]\n",
    ")\n",
    "\n",
    "print(onnx.printer.to_text(ir.to_proto(model_with_external_data)))"
   ]
  },
  {
   "cell_type": "markdown",
   "id": "e7ff107f",
   "metadata": {},
   "source": [
    "### Using safetensors as external data for ONNX\n",
    "\n",
    "We can similarly save external data file from an ONNX model to safetensors. By storing the tensor dtype in ONNX file, we can even use types safetensors doesn't yet support, like INT4.\n",
    "\n",
    "You can read more at https://github.com/justinchuby/onnx-safetensors/blob/main/examples/tutorial.ipynb"
   ]
  },
  {
   "cell_type": "markdown",
   "id": "8eb20a2e",
   "metadata": {},
   "source": [
    "### Inference with ONNX Runtime"
   ]
  },
  {
   "cell_type": "code",
   "execution_count": 7,
   "id": "39c668a4",
   "metadata": {},
   "outputs": [
    {
     "name": "stdout",
     "output_type": "stream",
     "text": [
      "[[1.0, 2.0, 3.0]] + [4, 5, 6] = [array([[5., 7., 9.]], dtype=float32)]\n"
     ]
    }
   ],
   "source": [
    "import numpy as np\n",
    "import onnxruntime as ort\n",
    "\n",
    "ir.save(model_with_external_data, \"model_with_external_data.onnx\")\n",
    "session = ort.InferenceSession(\"model_with_external_data.onnx\")\n",
    "output = session.run(None, {\"input\": np.array([[1.0, 2.0, 3.0]], dtype=np.float32)})\n",
    "print(\"[[1.0, 2.0, 3.0]] + [4, 5, 6] =\", output)"
   ]
  },
  {
   "cell_type": "markdown",
   "id": "c03361ce",
   "metadata": {},
   "source": [
    "## Demo 2: Fusion in onnxscript for ONNX Runtime"
   ]
  },
  {
   "cell_type": "code",
   "execution_count": 8,
   "id": "160e2559",
   "metadata": {},
   "outputs": [
    {
     "name": "stdout",
     "output_type": "stream",
     "text": [
      "Applied 1 of general pattern rewrite rules.\n",
      "Rule: Anonymous Rule\n",
      "--------------------------------------------------------------------------------\n",
      "Status: NO_MATCH\n",
      "Graph matching failed: Value embedding is not a constant, expecting 0.5.\n",
      "Failure at or around nodes/values:\n",
      "Node: 'node_Mul_337'\n"
     ]
    },
    {
     "data": {
      "text/html": [
       "<pre style=\"white-space:pre;overflow-x:auto;line-height:normal;font-family:Menlo,'DejaVu Sans Mono',consolas,'Courier New',monospace\">%<span style=\"color: #008000; text-decoration-color: #008000\">\"mul_169\"</span><span style=\"font-weight: bold\">&lt;</span><span style=\"color: #ff00ff; text-decoration-color: #ff00ff; font-weight: bold\">FLOAT</span><span style=\"color: #000000; text-decoration-color: #000000\">,</span><span style=\"font-weight: bold\">&gt;</span> ⬅️ ::<span style=\"color: #800080; text-decoration-color: #800080; font-weight: bold\">Mul</span><span style=\"font-weight: bold\">(</span>%<span style=\"color: #008000; text-decoration-color: #008000\">\"embedding\"</span>, %<span style=\"color: #008000; text-decoration-color: #008000\">\"rsqrt\"</span><span style=\"font-weight: bold\">)</span>\n",
       "</pre>\n"
      ],
      "text/plain": [
       "%\u001b[32m\"mul_169\"\u001b[0m\u001b[1m<\u001b[0m\u001b[1;95mFLOAT\u001b[0m\u001b[39m,\u001b[0m\u001b[1m>\u001b[0m ⬅️ ::\u001b[1;35mMul\u001b[0m\u001b[1m(\u001b[0m%\u001b[32m\"embedding\"\u001b[0m, %\u001b[32m\"rsqrt\"\u001b[0m\u001b[1m)\u001b[0m\n"
      ]
     },
     "metadata": {},
     "output_type": "display_data"
    },
    {
     "name": "stdout",
     "output_type": "stream",
     "text": [
      "Matched nodes:\n",
      "Node: 'node_Mul_337'\n"
     ]
    },
    {
     "data": {
      "text/html": [
       "<pre style=\"white-space:pre;overflow-x:auto;line-height:normal;font-family:Menlo,'DejaVu Sans Mono',consolas,'Courier New',monospace\">%<span style=\"color: #008000; text-decoration-color: #008000\">\"mul_169\"</span><span style=\"font-weight: bold\">&lt;</span><span style=\"color: #ff00ff; text-decoration-color: #ff00ff; font-weight: bold\">FLOAT</span><span style=\"color: #000000; text-decoration-color: #000000\">,</span><span style=\"font-weight: bold\">&gt;</span> ⬅️ ::<span style=\"color: #800080; text-decoration-color: #800080; font-weight: bold\">Mul</span><span style=\"font-weight: bold\">(</span>%<span style=\"color: #008000; text-decoration-color: #008000\">\"embedding\"</span>, %<span style=\"color: #008000; text-decoration-color: #008000\">\"rsqrt\"</span><span style=\"font-weight: bold\">)</span>\n",
       "</pre>\n"
      ],
      "text/plain": [
       "%\u001b[32m\"mul_169\"\u001b[0m\u001b[1m<\u001b[0m\u001b[1;95mFLOAT\u001b[0m\u001b[39m,\u001b[0m\u001b[1m>\u001b[0m ⬅️ ::\u001b[1;35mMul\u001b[0m\u001b[1m(\u001b[0m%\u001b[32m\"embedding\"\u001b[0m, %\u001b[32m\"rsqrt\"\u001b[0m\u001b[1m)\u001b[0m\n"
      ]
     },
     "metadata": {},
     "output_type": "display_data"
    },
    {
     "name": "stdout",
     "output_type": "stream",
     "text": [
      "Node: 'node_Mul_338'\n"
     ]
    },
    {
     "data": {
      "text/html": [
       "<pre style=\"white-space:pre;overflow-x:auto;line-height:normal;font-family:Menlo,'DejaVu Sans Mono',consolas,'Courier New',monospace\">%<span style=\"color: #008000; text-decoration-color: #008000\">\"mul_173\"</span><span style=\"font-weight: bold\">&lt;</span><span style=\"color: #ff00ff; text-decoration-color: #ff00ff; font-weight: bold\">FLOAT</span><span style=\"color: #000000; text-decoration-color: #000000\">,</span><span style=\"font-weight: bold\">&gt;</span> ⬅️ ::<span style=\"color: #800080; text-decoration-color: #800080; font-weight: bold\">Mul</span><span style=\"font-weight: bold\">(</span>%<span style=\"color: #008000; text-decoration-color: #008000\">\"model.layers.0.input_layernorm.weight\"</span><span style=\"font-weight: bold\">{</span><span style=\"color: #808000; text-decoration-color: #808000\">...</span><span style=\"font-weight: bold\">}</span>, %<span style=\"color: #008000; text-decoration-color: #008000\">\"mul_169\"</span><span style=\"font-weight: bold\">)</span>\n",
       "</pre>\n"
      ],
      "text/plain": [
       "%\u001b[32m\"mul_173\"\u001b[0m\u001b[1m<\u001b[0m\u001b[1;95mFLOAT\u001b[0m\u001b[39m,\u001b[0m\u001b[1m>\u001b[0m ⬅️ ::\u001b[1;35mMul\u001b[0m\u001b[1m(\u001b[0m%\u001b[32m\"model.layers.0.input_layernorm.weight\"\u001b[0m\u001b[1m{\u001b[0m\u001b[33m...\u001b[0m\u001b[1m}\u001b[0m, %\u001b[32m\"mul_169\"\u001b[0m\u001b[1m)\u001b[0m\n"
      ]
     },
     "metadata": {},
     "output_type": "display_data"
    },
    {
     "name": "stdout",
     "output_type": "stream",
     "text": [
      "--------------------------------------------------------------------------------\n",
      "No matches found.\n",
      "Rule: PartialRotaryEmbeddingFusion\n",
      "--------------------------------------------------------------------------------\n",
      "Status: NO_MATCH\n",
      "Graph matching failed: OpType mismatch: expected RotaryEmbedding, got Transpose.\n",
      "Failure at or around nodes/values:\n",
      "Node: 'node_Transpose_322'\n"
     ]
    },
    {
     "data": {
      "text/html": [
       "<pre style=\"white-space:pre;overflow-x:auto;line-height:normal;font-family:Menlo,'DejaVu Sans Mono',consolas,'Courier New',monospace\">%<span style=\"color: #008000; text-decoration-color: #008000\">\"transpose\"</span><span style=\"font-weight: bold\">&lt;</span><span style=\"color: #ff00ff; text-decoration-color: #ff00ff; font-weight: bold\">FLOAT</span><span style=\"color: #000000; text-decoration-color: #000000\">,</span><span style=\"color: #000000; text-decoration-color: #000000; font-weight: bold\">[</span><span style=\"color: #008080; text-decoration-color: #008080; font-weight: bold\">1</span><span style=\"color: #000000; text-decoration-color: #000000\">,s16,</span><span style=\"color: #008080; text-decoration-color: #008080; font-weight: bold\">32</span><span style=\"color: #000000; text-decoration-color: #000000; font-weight: bold\">]</span><span style=\"font-weight: bold\">&gt;</span> ⬅️ ::<span style=\"color: #800080; text-decoration-color: #800080; font-weight: bold\">Transpose</span><span style=\"font-weight: bold\">(</span>%<span style=\"color: #008000; text-decoration-color: #008000\">\"matmul\"</span><span style=\"font-weight: bold\">)</span> <span style=\"font-weight: bold\">{</span><span style=\"color: #808000; text-decoration-color: #808000\">perm</span>=<span style=\"font-weight: bold\">[</span><span style=\"color: #008080; text-decoration-color: #008080; font-weight: bold\">0</span>, <span style=\"color: #008080; text-decoration-color: #008080; font-weight: bold\">2</span>, <span style=\"color: #008080; text-decoration-color: #008080; font-weight: bold\">1</span><span style=\"font-weight: bold\">]}</span>\n",
       "</pre>\n"
      ],
      "text/plain": [
       "%\u001b[32m\"transpose\"\u001b[0m\u001b[1m<\u001b[0m\u001b[1;95mFLOAT\u001b[0m\u001b[39m,\u001b[0m\u001b[1;39m[\u001b[0m\u001b[1;36m1\u001b[0m\u001b[39m,s16,\u001b[0m\u001b[1;36m32\u001b[0m\u001b[1;39m]\u001b[0m\u001b[1m>\u001b[0m ⬅️ ::\u001b[1;35mTranspose\u001b[0m\u001b[1m(\u001b[0m%\u001b[32m\"matmul\"\u001b[0m\u001b[1m)\u001b[0m \u001b[1m{\u001b[0m\u001b[33mperm\u001b[0m=\u001b[1m[\u001b[0m\u001b[1;36m0\u001b[0m, \u001b[1;36m2\u001b[0m, \u001b[1;36m1\u001b[0m\u001b[1m]\u001b[0m\u001b[1m}\u001b[0m\n"
      ]
     },
     "metadata": {},
     "output_type": "display_data"
    },
    {
     "name": "stdout",
     "output_type": "stream",
     "text": [
      "Node: 'node_Transpose_322'\n"
     ]
    },
    {
     "data": {
      "text/html": [
       "<pre style=\"white-space:pre;overflow-x:auto;line-height:normal;font-family:Menlo,'DejaVu Sans Mono',consolas,'Courier New',monospace\">%<span style=\"color: #008000; text-decoration-color: #008000\">\"transpose\"</span><span style=\"font-weight: bold\">&lt;</span><span style=\"color: #ff00ff; text-decoration-color: #ff00ff; font-weight: bold\">FLOAT</span><span style=\"color: #000000; text-decoration-color: #000000\">,</span><span style=\"color: #000000; text-decoration-color: #000000; font-weight: bold\">[</span><span style=\"color: #008080; text-decoration-color: #008080; font-weight: bold\">1</span><span style=\"color: #000000; text-decoration-color: #000000\">,s16,</span><span style=\"color: #008080; text-decoration-color: #008080; font-weight: bold\">32</span><span style=\"color: #000000; text-decoration-color: #000000; font-weight: bold\">]</span><span style=\"font-weight: bold\">&gt;</span> ⬅️ ::<span style=\"color: #800080; text-decoration-color: #800080; font-weight: bold\">Transpose</span><span style=\"font-weight: bold\">(</span>%<span style=\"color: #008000; text-decoration-color: #008000\">\"matmul\"</span><span style=\"font-weight: bold\">)</span> <span style=\"font-weight: bold\">{</span><span style=\"color: #808000; text-decoration-color: #808000\">perm</span>=<span style=\"font-weight: bold\">[</span><span style=\"color: #008080; text-decoration-color: #008080; font-weight: bold\">0</span>, <span style=\"color: #008080; text-decoration-color: #008080; font-weight: bold\">2</span>, <span style=\"color: #008080; text-decoration-color: #008080; font-weight: bold\">1</span><span style=\"font-weight: bold\">]}</span>\n",
       "</pre>\n"
      ],
      "text/plain": [
       "%\u001b[32m\"transpose\"\u001b[0m\u001b[1m<\u001b[0m\u001b[1;95mFLOAT\u001b[0m\u001b[39m,\u001b[0m\u001b[1;39m[\u001b[0m\u001b[1;36m1\u001b[0m\u001b[39m,s16,\u001b[0m\u001b[1;36m32\u001b[0m\u001b[1;39m]\u001b[0m\u001b[1m>\u001b[0m ⬅️ ::\u001b[1;35mTranspose\u001b[0m\u001b[1m(\u001b[0m%\u001b[32m\"matmul\"\u001b[0m\u001b[1m)\u001b[0m \u001b[1m{\u001b[0m\u001b[33mperm\u001b[0m=\u001b[1m[\u001b[0m\u001b[1;36m0\u001b[0m, \u001b[1;36m2\u001b[0m, \u001b[1;36m1\u001b[0m\u001b[1m]\u001b[0m\u001b[1m}\u001b[0m\n"
      ]
     },
     "metadata": {},
     "output_type": "display_data"
    },
    {
     "name": "stdout",
     "output_type": "stream",
     "text": [
      "Matched nodes:\n",
      "Node: 'node_Concat_323'\n"
     ]
    },
    {
     "data": {
      "text/html": [
       "<pre style=\"white-space:pre;overflow-x:auto;line-height:normal;font-family:Menlo,'DejaVu Sans Mono',consolas,'Courier New',monospace\">%<span style=\"color: #008000; text-decoration-color: #008000\">\"cat\"</span><span style=\"font-weight: bold\">&lt;</span><span style=\"color: #ff00ff; text-decoration-color: #ff00ff; font-weight: bold\">FLOAT</span><span style=\"color: #000000; text-decoration-color: #000000\">,</span><span style=\"color: #000000; text-decoration-color: #000000; font-weight: bold\">[</span><span style=\"color: #008080; text-decoration-color: #008080; font-weight: bold\">1</span><span style=\"color: #000000; text-decoration-color: #000000\">,s16,</span><span style=\"color: #008080; text-decoration-color: #008080; font-weight: bold\">64</span><span style=\"color: #000000; text-decoration-color: #000000; font-weight: bold\">]</span><span style=\"font-weight: bold\">&gt;</span> ⬅️ ::<span style=\"color: #800080; text-decoration-color: #800080; font-weight: bold\">Concat</span><span style=\"font-weight: bold\">(</span>%<span style=\"color: #008000; text-decoration-color: #008000\">\"transpose\"</span>, %<span style=\"color: #008000; text-decoration-color: #008000\">\"transpose\"</span><span style=\"font-weight: bold\">)</span> <span style=\"font-weight: bold\">{</span><span style=\"color: #808000; text-decoration-color: #808000\">axis</span>=<span style=\"color: #008080; text-decoration-color: #008080; font-weight: bold\">-1</span><span style=\"font-weight: bold\">}</span>\n",
       "</pre>\n"
      ],
      "text/plain": [
       "%\u001b[32m\"cat\"\u001b[0m\u001b[1m<\u001b[0m\u001b[1;95mFLOAT\u001b[0m\u001b[39m,\u001b[0m\u001b[1;39m[\u001b[0m\u001b[1;36m1\u001b[0m\u001b[39m,s16,\u001b[0m\u001b[1;36m64\u001b[0m\u001b[1;39m]\u001b[0m\u001b[1m>\u001b[0m ⬅️ ::\u001b[1;35mConcat\u001b[0m\u001b[1m(\u001b[0m%\u001b[32m\"transpose\"\u001b[0m, %\u001b[32m\"transpose\"\u001b[0m\u001b[1m)\u001b[0m \u001b[1m{\u001b[0m\u001b[33maxis\u001b[0m=\u001b[1;36m-1\u001b[0m\u001b[1m}\u001b[0m\n"
      ]
     },
     "metadata": {},
     "output_type": "display_data"
    },
    {
     "name": "stdout",
     "output_type": "stream",
     "text": [
      "--------------------------------------------------------------------------------\n",
      "Rule: MHA_3D_Transpose_PreScaleQ\n",
      "--------------------------------------------------------------------------------\n",
      "Status: NO_MATCH\n",
      "Graph matching failed: OpType mismatch: expected Transpose, got Add.\n",
      "Failure at or around nodes/values:\n",
      "Node: 'node_Add_33'\n"
     ]
    },
    {
     "data": {
      "text/html": [
       "<pre style=\"white-space:pre;overflow-x:auto;line-height:normal;font-family:Menlo,'DejaVu Sans Mono',consolas,'Courier New',monospace\">%<span style=\"color: #008000; text-decoration-color: #008000\">\"add_4\"</span><span style=\"font-weight: bold\">&lt;</span><span style=\"color: #ff00ff; text-decoration-color: #ff00ff; font-weight: bold\">INT64</span><span style=\"color: #000000; text-decoration-color: #000000\">,</span><span style=\"color: #000000; text-decoration-color: #000000; font-weight: bold\">[]</span><span style=\"font-weight: bold\">&gt;</span> ⬅️ ::<span style=\"color: #800080; text-decoration-color: #800080; font-weight: bold\">Add</span><span style=\"font-weight: bold\">(</span>%<span style=\"color: #008000; text-decoration-color: #008000\">\"sym_size_int_67\"</span>, %<span style=\"color: #008000; text-decoration-color: #008000\">\"sym_size_int_61\"</span><span style=\"font-weight: bold\">)</span>\n",
       "</pre>\n"
      ],
      "text/plain": [
       "%\u001b[32m\"add_4\"\u001b[0m\u001b[1m<\u001b[0m\u001b[1;95mINT64\u001b[0m\u001b[39m,\u001b[0m\u001b[1;39m[\u001b[0m\u001b[1;39m]\u001b[0m\u001b[1m>\u001b[0m ⬅️ ::\u001b[1;35mAdd\u001b[0m\u001b[1m(\u001b[0m%\u001b[32m\"sym_size_int_67\"\u001b[0m, %\u001b[32m\"sym_size_int_61\"\u001b[0m\u001b[1m)\u001b[0m\n"
      ]
     },
     "metadata": {},
     "output_type": "display_data"
    },
    {
     "name": "stdout",
     "output_type": "stream",
     "text": [
      "Node: 'node_Add_33'\n"
     ]
    },
    {
     "data": {
      "text/html": [
       "<pre style=\"white-space:pre;overflow-x:auto;line-height:normal;font-family:Menlo,'DejaVu Sans Mono',consolas,'Courier New',monospace\">%<span style=\"color: #008000; text-decoration-color: #008000\">\"add_4\"</span><span style=\"font-weight: bold\">&lt;</span><span style=\"color: #ff00ff; text-decoration-color: #ff00ff; font-weight: bold\">INT64</span><span style=\"color: #000000; text-decoration-color: #000000\">,</span><span style=\"color: #000000; text-decoration-color: #000000; font-weight: bold\">[]</span><span style=\"font-weight: bold\">&gt;</span> ⬅️ ::<span style=\"color: #800080; text-decoration-color: #800080; font-weight: bold\">Add</span><span style=\"font-weight: bold\">(</span>%<span style=\"color: #008000; text-decoration-color: #008000\">\"sym_size_int_67\"</span>, %<span style=\"color: #008000; text-decoration-color: #008000\">\"sym_size_int_61\"</span><span style=\"font-weight: bold\">)</span>\n",
       "</pre>\n"
      ],
      "text/plain": [
       "%\u001b[32m\"add_4\"\u001b[0m\u001b[1m<\u001b[0m\u001b[1;95mINT64\u001b[0m\u001b[39m,\u001b[0m\u001b[1;39m[\u001b[0m\u001b[1;39m]\u001b[0m\u001b[1m>\u001b[0m ⬅️ ::\u001b[1;35mAdd\u001b[0m\u001b[1m(\u001b[0m%\u001b[32m\"sym_size_int_67\"\u001b[0m, %\u001b[32m\"sym_size_int_61\"\u001b[0m\u001b[1m)\u001b[0m\n"
      ]
     },
     "metadata": {},
     "output_type": "display_data"
    },
    {
     "name": "stdout",
     "output_type": "stream",
     "text": [
      "Matched nodes:\n",
      "Node: 'node_Reshape_44'\n"
     ]
    },
    {
     "data": {
      "text/html": [
       "<pre style=\"white-space:pre;overflow-x:auto;line-height:normal;font-family:Menlo,'DejaVu Sans Mono',consolas,'Courier New',monospace\">%<span style=\"color: #008000; text-decoration-color: #008000\">\"val_18\"</span><span style=\"font-weight: bold\">&lt;</span><span style=\"color: #ff00ff; text-decoration-color: #ff00ff; font-weight: bold\">INT64</span><span style=\"color: #000000; text-decoration-color: #000000\">,</span><span style=\"color: #000000; text-decoration-color: #000000; font-weight: bold\">[</span><span style=\"color: #008080; text-decoration-color: #008080; font-weight: bold\">1</span><span style=\"color: #000000; text-decoration-color: #000000; font-weight: bold\">]</span><span style=\"font-weight: bold\">&gt;</span> ⬅️ ::<span style=\"color: #800080; text-decoration-color: #800080; font-weight: bold\">Reshape</span><span style=\"font-weight: bold\">(</span>%<span style=\"color: #008000; text-decoration-color: #008000\">\"add_4\"</span>, %<span style=\"color: #008000; text-decoration-color: #008000\">\"val_17\"</span><span style=\"font-weight: bold\">{[</span><span style=\"color: #008080; text-decoration-color: #008080; font-weight: bold\">-1</span><span style=\"font-weight: bold\">]})</span> <span style=\"font-weight: bold\">{</span><span style=\"color: #808000; text-decoration-color: #808000\">allowzero</span>=<span style=\"color: #008080; text-decoration-color: #008080; font-weight: bold\">0</span><span style=\"font-weight: bold\">}</span>\n",
       "</pre>\n"
      ],
      "text/plain": [
       "%\u001b[32m\"val_18\"\u001b[0m\u001b[1m<\u001b[0m\u001b[1;95mINT64\u001b[0m\u001b[39m,\u001b[0m\u001b[1;39m[\u001b[0m\u001b[1;36m1\u001b[0m\u001b[1;39m]\u001b[0m\u001b[1m>\u001b[0m ⬅️ ::\u001b[1;35mReshape\u001b[0m\u001b[1m(\u001b[0m%\u001b[32m\"add_4\"\u001b[0m, %\u001b[32m\"val_17\"\u001b[0m\u001b[1m{\u001b[0m\u001b[1m[\u001b[0m\u001b[1;36m-1\u001b[0m\u001b[1m]\u001b[0m\u001b[1m}\u001b[0m\u001b[1m)\u001b[0m \u001b[1m{\u001b[0m\u001b[33mallowzero\u001b[0m=\u001b[1;36m0\u001b[0m\u001b[1m}\u001b[0m\n"
      ]
     },
     "metadata": {},
     "output_type": "display_data"
    },
    {
     "name": "stdout",
     "output_type": "stream",
     "text": [
      "--------------------------------------------------------------------------------\n",
      "Rule: FuseBiasMHA\n",
      "--------------------------------------------------------------------------------\n",
      "Status: NO_MATCH\n",
      "Graph matching failed: Matched nodes have other uses preventing replacement.\n",
      "Failure at or around nodes/values:\n",
      "Matched nodes:\n",
      "Node: 'node_MultiHeadAttention_62'\n"
     ]
    },
    {
     "data": {
      "text/html": [
       "<pre style=\"white-space:pre;overflow-x:auto;line-height:normal;font-family:Menlo,'DejaVu Sans Mono',consolas,'Courier New',monospace\">%<span style=\"color: #008000; text-decoration-color: #008000\">\"view_4\"</span><span style=\"font-weight: bold\">&lt;</span><span style=\"color: #ff00ff; text-decoration-color: #ff00ff; font-weight: bold\">FLOAT</span><span style=\"color: #000000; text-decoration-color: #000000\">,&gt;, %</span><span style=\"color: #008000; text-decoration-color: #008000\">\"cat_3\"</span><span style=\"color: #000000; text-decoration-color: #000000\">&lt;FLOAT,&gt;, %</span><span style=\"color: #008000; text-decoration-color: #008000\">\"cat_4\"</span><span style=\"color: #000000; text-decoration-color: #000000\">&lt;FLOAT,</span><span style=\"font-weight: bold\">&gt;</span> ⬅️ com.microsoft::<span style=\"color: #800080; text-decoration-color: #800080; font-weight: bold\">MultiHeadAttention</span><span style=\"font-weight: bold\">(</span>%<span style=\"color: #008000; text-decoration-color: #008000\">\"val_48\"</span>, %<span style=\"color: #008000; text-decoration-color: #008000\">\"val_49\"</span>, \n",
       "%<span style=\"color: #008000; text-decoration-color: #008000\">\"linear_2\"</span>, <span style=\"color: #800080; text-decoration-color: #800080; font-style: italic\">None</span>, <span style=\"color: #800080; text-decoration-color: #800080; font-style: italic\">None</span>, %<span style=\"color: #008000; text-decoration-color: #008000\">\"slice_37\"</span>, %<span style=\"color: #008000; text-decoration-color: #008000\">\"past_key_values_key_cache_0\"</span>, %<span style=\"color: #008000; text-decoration-color: #008000\">\"past_key_values_value_cache_0\"</span><span style=\"font-weight: bold\">)</span> \n",
       "<span style=\"font-weight: bold\">{</span><span style=\"color: #808000; text-decoration-color: #808000\">num_heads</span>=<span style=\"color: #008080; text-decoration-color: #008080; font-weight: bold\">32</span><span style=\"font-weight: bold\">}</span>\n",
       "</pre>\n"
      ],
      "text/plain": [
       "%\u001b[32m\"view_4\"\u001b[0m\u001b[1m<\u001b[0m\u001b[1;95mFLOAT\u001b[0m\u001b[39m,\u001b[0m\u001b[39m>, %\u001b[0m\u001b[32m\"cat_3\"\u001b[0m\u001b[39m<FLOAT,\u001b[0m\u001b[39m>, %\u001b[0m\u001b[32m\"cat_4\"\u001b[0m\u001b[39m<FLOAT,\u001b[0m\u001b[1m>\u001b[0m ⬅️ com.microsoft::\u001b[1;35mMultiHeadAttention\u001b[0m\u001b[1m(\u001b[0m%\u001b[32m\"val_48\"\u001b[0m, %\u001b[32m\"val_49\"\u001b[0m, \n",
       "%\u001b[32m\"linear_2\"\u001b[0m, \u001b[3;35mNone\u001b[0m, \u001b[3;35mNone\u001b[0m, %\u001b[32m\"slice_37\"\u001b[0m, %\u001b[32m\"past_key_values_key_cache_0\"\u001b[0m, %\u001b[32m\"past_key_values_value_cache_0\"\u001b[0m\u001b[1m)\u001b[0m \n",
       "\u001b[1m{\u001b[0m\u001b[33mnum_heads\u001b[0m=\u001b[1;36m32\u001b[0m\u001b[1m}\u001b[0m\n"
      ]
     },
     "metadata": {},
     "output_type": "display_data"
    },
    {
     "name": "stdout",
     "output_type": "stream",
     "text": [
      "--------------------------------------------------------------------------------\n",
      "Rule: attention\n",
      "--------------------------------------------------------------------------------\n",
      "Status: NO_MATCH\n",
      "Graph matching failed: OpType mismatch: expected Slice, got RotaryEmbedding.\n",
      "Failure at or around nodes/values:\n",
      "Node: 'node_RotaryEmbedding_60'\n"
     ]
    },
    {
     "data": {
      "text/html": [
       "<pre style=\"white-space:pre;overflow-x:auto;line-height:normal;font-family:Menlo,'DejaVu Sans Mono',consolas,'Courier New',monospace\">%<span style=\"color: #008000; text-decoration-color: #008000\">\"val_48\"</span><span style=\"font-weight: bold\">&lt;</span><span style=\"color: #000000; text-decoration-color: #000000\">?,?</span><span style=\"font-weight: bold\">&gt;</span> ⬅️ com.microsoft::<span style=\"color: #800080; text-decoration-color: #800080; font-weight: bold\">RotaryEmbedding</span><span style=\"font-weight: bold\">(</span>%<span style=\"color: #008000; text-decoration-color: #008000\">\"linear\"</span>, %<span style=\"color: #008000; text-decoration-color: #008000\">\"val_47\"</span>, %<span style=\"color: #008000; text-decoration-color: #008000\">\"val_36\"</span>, %<span style=\"color: #008000; text-decoration-color: #008000\">\"val_37\"</span><span style=\"font-weight: bold\">)</span>\n",
       "</pre>\n"
      ],
      "text/plain": [
       "%\u001b[32m\"val_48\"\u001b[0m\u001b[1m<\u001b[0m\u001b[39m?,?\u001b[0m\u001b[1m>\u001b[0m ⬅️ com.microsoft::\u001b[1;35mRotaryEmbedding\u001b[0m\u001b[1m(\u001b[0m%\u001b[32m\"linear\"\u001b[0m, %\u001b[32m\"val_47\"\u001b[0m, %\u001b[32m\"val_36\"\u001b[0m, %\u001b[32m\"val_37\"\u001b[0m\u001b[1m)\u001b[0m\n"
      ]
     },
     "metadata": {},
     "output_type": "display_data"
    },
    {
     "name": "stdout",
     "output_type": "stream",
     "text": [
      "Node: 'node_RotaryEmbedding_60'\n"
     ]
    },
    {
     "data": {
      "text/html": [
       "<pre style=\"white-space:pre;overflow-x:auto;line-height:normal;font-family:Menlo,'DejaVu Sans Mono',consolas,'Courier New',monospace\">%<span style=\"color: #008000; text-decoration-color: #008000\">\"val_48\"</span><span style=\"font-weight: bold\">&lt;</span><span style=\"color: #000000; text-decoration-color: #000000\">?,?</span><span style=\"font-weight: bold\">&gt;</span> ⬅️ com.microsoft::<span style=\"color: #800080; text-decoration-color: #800080; font-weight: bold\">RotaryEmbedding</span><span style=\"font-weight: bold\">(</span>%<span style=\"color: #008000; text-decoration-color: #008000\">\"linear\"</span>, %<span style=\"color: #008000; text-decoration-color: #008000\">\"val_47\"</span>, %<span style=\"color: #008000; text-decoration-color: #008000\">\"val_36\"</span>, %<span style=\"color: #008000; text-decoration-color: #008000\">\"val_37\"</span><span style=\"font-weight: bold\">)</span>\n",
       "</pre>\n"
      ],
      "text/plain": [
       "%\u001b[32m\"val_48\"\u001b[0m\u001b[1m<\u001b[0m\u001b[39m?,?\u001b[0m\u001b[1m>\u001b[0m ⬅️ com.microsoft::\u001b[1;35mRotaryEmbedding\u001b[0m\u001b[1m(\u001b[0m%\u001b[32m\"linear\"\u001b[0m, %\u001b[32m\"val_47\"\u001b[0m, %\u001b[32m\"val_36\"\u001b[0m, %\u001b[32m\"val_37\"\u001b[0m\u001b[1m)\u001b[0m\n"
      ]
     },
     "metadata": {},
     "output_type": "display_data"
    },
    {
     "name": "stdout",
     "output_type": "stream",
     "text": [
      "Matched nodes:\n",
      "Node: 'node_MultiHeadAttention_62'\n"
     ]
    },
    {
     "data": {
      "text/html": [
       "<pre style=\"white-space:pre;overflow-x:auto;line-height:normal;font-family:Menlo,'DejaVu Sans Mono',consolas,'Courier New',monospace\">%<span style=\"color: #008000; text-decoration-color: #008000\">\"view_4\"</span><span style=\"font-weight: bold\">&lt;</span><span style=\"color: #ff00ff; text-decoration-color: #ff00ff; font-weight: bold\">FLOAT</span><span style=\"color: #000000; text-decoration-color: #000000\">,&gt;, %</span><span style=\"color: #008000; text-decoration-color: #008000\">\"cat_3\"</span><span style=\"color: #000000; text-decoration-color: #000000\">&lt;FLOAT,&gt;, %</span><span style=\"color: #008000; text-decoration-color: #008000\">\"cat_4\"</span><span style=\"color: #000000; text-decoration-color: #000000\">&lt;FLOAT,</span><span style=\"font-weight: bold\">&gt;</span> ⬅️ com.microsoft::<span style=\"color: #800080; text-decoration-color: #800080; font-weight: bold\">MultiHeadAttention</span><span style=\"font-weight: bold\">(</span>%<span style=\"color: #008000; text-decoration-color: #008000\">\"val_48\"</span>, %<span style=\"color: #008000; text-decoration-color: #008000\">\"val_49\"</span>, \n",
       "%<span style=\"color: #008000; text-decoration-color: #008000\">\"linear_2\"</span>, <span style=\"color: #800080; text-decoration-color: #800080; font-style: italic\">None</span>, <span style=\"color: #800080; text-decoration-color: #800080; font-style: italic\">None</span>, %<span style=\"color: #008000; text-decoration-color: #008000\">\"slice_37\"</span>, %<span style=\"color: #008000; text-decoration-color: #008000\">\"past_key_values_key_cache_0\"</span>, %<span style=\"color: #008000; text-decoration-color: #008000\">\"past_key_values_value_cache_0\"</span><span style=\"font-weight: bold\">)</span> \n",
       "<span style=\"font-weight: bold\">{</span><span style=\"color: #808000; text-decoration-color: #808000\">num_heads</span>=<span style=\"color: #008080; text-decoration-color: #008080; font-weight: bold\">32</span><span style=\"font-weight: bold\">}</span>\n",
       "</pre>\n"
      ],
      "text/plain": [
       "%\u001b[32m\"view_4\"\u001b[0m\u001b[1m<\u001b[0m\u001b[1;95mFLOAT\u001b[0m\u001b[39m,\u001b[0m\u001b[39m>, %\u001b[0m\u001b[32m\"cat_3\"\u001b[0m\u001b[39m<FLOAT,\u001b[0m\u001b[39m>, %\u001b[0m\u001b[32m\"cat_4\"\u001b[0m\u001b[39m<FLOAT,\u001b[0m\u001b[1m>\u001b[0m ⬅️ com.microsoft::\u001b[1;35mMultiHeadAttention\u001b[0m\u001b[1m(\u001b[0m%\u001b[32m\"val_48\"\u001b[0m, %\u001b[32m\"val_49\"\u001b[0m, \n",
       "%\u001b[32m\"linear_2\"\u001b[0m, \u001b[3;35mNone\u001b[0m, \u001b[3;35mNone\u001b[0m, %\u001b[32m\"slice_37\"\u001b[0m, %\u001b[32m\"past_key_values_key_cache_0\"\u001b[0m, %\u001b[32m\"past_key_values_value_cache_0\"\u001b[0m\u001b[1m)\u001b[0m \n",
       "\u001b[1m{\u001b[0m\u001b[33mnum_heads\u001b[0m=\u001b[1;36m32\u001b[0m\u001b[1m}\u001b[0m\n"
      ]
     },
     "metadata": {},
     "output_type": "display_data"
    },
    {
     "name": "stdout",
     "output_type": "stream",
     "text": [
      "--------------------------------------------------------------------------------\n",
      "Rule: GeluTanhFusion\n",
      "--------------------------------------------------------------------------------\n",
      "Status: NO_MATCH\n",
      "Graph matching failed: OpType mismatch: expected Mul, got Cast.\n",
      "Failure at or around nodes/values:\n",
      "Node: 'node_Cast_57'\n"
     ]
    },
    {
     "data": {
      "text/html": [
       "<pre style=\"white-space:pre;overflow-x:auto;line-height:normal;font-family:Menlo,'DejaVu Sans Mono',consolas,'Courier New',monospace\">%<span style=\"color: #008000; text-decoration-color: #008000\">\"convert_element_type_default\"</span><span style=\"font-weight: bold\">&lt;</span><span style=\"color: #ff00ff; text-decoration-color: #ff00ff; font-weight: bold\">FLOAT</span><span style=\"color: #000000; text-decoration-color: #000000\">,</span><span style=\"font-weight: bold\">&gt;</span> ⬅️ ::<span style=\"color: #800080; text-decoration-color: #800080; font-weight: bold\">Cast</span><span style=\"font-weight: bold\">(</span>%<span style=\"color: #008000; text-decoration-color: #008000\">\"gt\"</span><span style=\"font-weight: bold\">)</span> <span style=\"font-weight: bold\">{</span><span style=\"color: #808000; text-decoration-color: #808000\">to</span>=<span style=\"color: #008080; text-decoration-color: #008080; font-weight: bold\">1</span><span style=\"font-weight: bold\">}</span>\n",
       "</pre>\n"
      ],
      "text/plain": [
       "%\u001b[32m\"convert_element_type_default\"\u001b[0m\u001b[1m<\u001b[0m\u001b[1;95mFLOAT\u001b[0m\u001b[39m,\u001b[0m\u001b[1m>\u001b[0m ⬅️ ::\u001b[1;35mCast\u001b[0m\u001b[1m(\u001b[0m%\u001b[32m\"gt\"\u001b[0m\u001b[1m)\u001b[0m \u001b[1m{\u001b[0m\u001b[33mto\u001b[0m=\u001b[1;36m1\u001b[0m\u001b[1m}\u001b[0m\n"
      ]
     },
     "metadata": {},
     "output_type": "display_data"
    },
    {
     "name": "stdout",
     "output_type": "stream",
     "text": [
      "Node: 'node_Cast_57'\n"
     ]
    },
    {
     "data": {
      "text/html": [
       "<pre style=\"white-space:pre;overflow-x:auto;line-height:normal;font-family:Menlo,'DejaVu Sans Mono',consolas,'Courier New',monospace\">%<span style=\"color: #008000; text-decoration-color: #008000\">\"convert_element_type_default\"</span><span style=\"font-weight: bold\">&lt;</span><span style=\"color: #ff00ff; text-decoration-color: #ff00ff; font-weight: bold\">FLOAT</span><span style=\"color: #000000; text-decoration-color: #000000\">,</span><span style=\"font-weight: bold\">&gt;</span> ⬅️ ::<span style=\"color: #800080; text-decoration-color: #800080; font-weight: bold\">Cast</span><span style=\"font-weight: bold\">(</span>%<span style=\"color: #008000; text-decoration-color: #008000\">\"gt\"</span><span style=\"font-weight: bold\">)</span> <span style=\"font-weight: bold\">{</span><span style=\"color: #808000; text-decoration-color: #808000\">to</span>=<span style=\"color: #008080; text-decoration-color: #008080; font-weight: bold\">1</span><span style=\"font-weight: bold\">}</span>\n",
       "</pre>\n"
      ],
      "text/plain": [
       "%\u001b[32m\"convert_element_type_default\"\u001b[0m\u001b[1m<\u001b[0m\u001b[1;95mFLOAT\u001b[0m\u001b[39m,\u001b[0m\u001b[1m>\u001b[0m ⬅️ ::\u001b[1;35mCast\u001b[0m\u001b[1m(\u001b[0m%\u001b[32m\"gt\"\u001b[0m\u001b[1m)\u001b[0m \u001b[1m{\u001b[0m\u001b[33mto\u001b[0m=\u001b[1;36m1\u001b[0m\u001b[1m}\u001b[0m\n"
      ]
     },
     "metadata": {},
     "output_type": "display_data"
    },
    {
     "name": "stdout",
     "output_type": "stream",
     "text": [
      "Matched nodes:\n",
      "Node: 'node_Mul_58'\n"
     ]
    },
    {
     "data": {
      "text/html": [
       "<pre style=\"white-space:pre;overflow-x:auto;line-height:normal;font-family:Menlo,'DejaVu Sans Mono',consolas,'Courier New',monospace\">%<span style=\"color: #008000; text-decoration-color: #008000\">\"mul_16\"</span><span style=\"font-weight: bold\">&lt;</span><span style=\"color: #ff00ff; text-decoration-color: #ff00ff; font-weight: bold\">FLOAT</span><span style=\"color: #000000; text-decoration-color: #000000\">,</span><span style=\"font-weight: bold\">&gt;</span> ⬅️ ::<span style=\"color: #800080; text-decoration-color: #800080; font-weight: bold\">Mul</span><span style=\"font-weight: bold\">(</span>%<span style=\"color: #008000; text-decoration-color: #008000\">\"triu\"</span>, %<span style=\"color: #008000; text-decoration-color: #008000\">\"convert_element_type_default\"</span><span style=\"font-weight: bold\">)</span>\n",
       "</pre>\n"
      ],
      "text/plain": [
       "%\u001b[32m\"mul_16\"\u001b[0m\u001b[1m<\u001b[0m\u001b[1;95mFLOAT\u001b[0m\u001b[39m,\u001b[0m\u001b[1m>\u001b[0m ⬅️ ::\u001b[1;35mMul\u001b[0m\u001b[1m(\u001b[0m%\u001b[32m\"triu\"\u001b[0m, %\u001b[32m\"convert_element_type_default\"\u001b[0m\u001b[1m)\u001b[0m\n"
      ]
     },
     "metadata": {},
     "output_type": "display_data"
    },
    {
     "name": "stdout",
     "output_type": "stream",
     "text": [
      "--------------------------------------------------------------------------------\n",
      "No matches found.\n"
     ]
    }
   ],
   "source": [
    "import onnx_ir as ir\n",
    "import onnxscript.rewriter.ort_fusions\n",
    "\n",
    "# Load the SmolLM model [show model]\n",
    "smollm_model = ir.load(\"resources/model_SmolLM17b_2Layer-onnx_dynamo-ir-d1rt1.onnx\")\n",
    "\n",
    "# Run optimizations for ONNX Runtime\n",
    "onnxscript.rewriter.ort_fusions.optimize_for_ort(smollm_model, debug=True)\n",
    "ir.save(\n",
    "    smollm_model,\n",
    "    \"model_SmolLM17b_optimized.onnx\",\n",
    "    external_data=\"model_SmolLM17b_optimized.onnx.data\",\n",
    ")"
   ]
  },
  {
   "cell_type": "code",
   "execution_count": 9,
   "id": "92b3d91e",
   "metadata": {},
   "outputs": [],
   "source": [
    "# !onnxvis resources/model_SmolLM17b_2Layer-onnx_dynamo-ir-d1rt1.onnx,model_SmolLM17b_optimized.onnx\n",
    "\n",
    "# import model_explorer\n",
    "\n",
    "# model_explorer.visualize(\n",
    "#     [\n",
    "#         \"resources/model_SmolLM17b_2Layer-onnx_dynamo-ir-d1rt1.onnx\",\n",
    "#         \"model_SmolLM17b_optimized.onnx\",\n",
    "#     ],\n",
    "#     extensions=[\"model_explorer_onnx\"],\n",
    "# )\n"
   ]
  },
  {
   "cell_type": "markdown",
   "id": "b358607f",
   "metadata": {},
   "source": [
    "## Demo 3: Putting it together\n",
    "\n",
    "1. Build a model with the tape module.\n",
    "2. Replace some initializers\n",
    "3. Build a pass to modify the model (merge QKV weights)\n",
    "4. Use rewriter to do the same thing\n",
    "5. Show it on model explorer\n"
   ]
  },
  {
   "cell_type": "markdown",
   "id": "07724b5a",
   "metadata": {},
   "source": [
    "### 1. Build a model with the tape module."
   ]
  },
  {
   "cell_type": "code",
   "execution_count": 10,
   "id": "48ee05ec",
   "metadata": {},
   "outputs": [],
   "source": [
    "import numpy as np\n",
    "\n",
    "\n",
    "def build_model() -> ir.Model:\n",
    "    R\"\"\"\n",
    "      Input Embeddings  [batch_size, seq_len, hidden_size]\n",
    "          |\n",
    "          V\n",
    "      [Linear Layer: W_QKV]  <-- Single merged weight matrix  [hidden_size, 3 * hidden_size]\n",
    "          |\n",
    "          V\n",
    "      [QKV Tensor]  [batch_size, seq_len, 3 * hidden_size]\n",
    "       /    |    \\\n",
    "      /     |     \\\n",
    "     V      V      V\n",
    "    Query  Key   Value    <-- Q, K, V are now derived by splitting the QKV Tensor\n",
    "    # Each of these has shape [batch_size, seq_len, hidden_size]\n",
    "        \\   |   /\n",
    "         \\  |  /\n",
    "     [Scaled Dot-Product Attention]\n",
    "                |\n",
    "                V\n",
    "        [Attention Output]  [batch_size, seq_len, hidden_size]\n",
    "    \"\"\"\n",
    "    batch_size = 2\n",
    "    seq_len = 3\n",
    "    hidden_size = 16\n",
    "\n",
    "    # Initializer the Tape. It is simply a recorder of operations and initializers.\n",
    "    tape = ir.tape.Tape()\n",
    "\n",
    "    # Create initializers\n",
    "    q_weight = tape.initializer(\n",
    "        ir.tensor(np.random.rand(hidden_size, hidden_size).astype(np.float32)),\n",
    "        name=\"q_weight\",\n",
    "    )\n",
    "    k_weight = tape.initializer(\n",
    "        ir.tensor(np.random.rand(hidden_size, hidden_size).astype(np.float32)),\n",
    "        name=\"k_weight\",\n",
    "    )\n",
    "    v_weight = tape.initializer(\n",
    "        ir.tensor(np.random.rand(hidden_size, hidden_size).astype(np.float32)),\n",
    "        name=\"v_weight\",\n",
    "    )\n",
    "\n",
    "    # Create graph inputs\n",
    "    input = ir.Value(\n",
    "        name=\"input\",\n",
    "        type=ir.TensorType(ir.DataType.FLOAT),\n",
    "        shape=ir.Shape([batch_size, seq_len, hidden_size]),\n",
    "    )\n",
    "\n",
    "    query = tape.op(\"MatMul\", inputs=[input, q_weight])\n",
    "    key = tape.op(\"MatMul\", inputs=[input, k_weight])\n",
    "    value = tape.op(\"MatMul\", inputs=[input, v_weight])\n",
    "    attention_output = tape.op(\n",
    "        \"Attention\",\n",
    "        inputs=[query, key, value],\n",
    "        attributes={\"q_num_heads\": 1, \"kv_num_heads\": 1},\n",
    "    )\n",
    "    attention_output.shape = ir.Shape([batch_size, seq_len, hidden_size])\n",
    "    attention_output.type = ir.TensorType(ir.DataType.FLOAT)\n",
    "\n",
    "    model = ir.Model(\n",
    "        graph=ir.Graph(\n",
    "            inputs=[input],\n",
    "            outputs=[attention_output],\n",
    "            nodes=tape.nodes,\n",
    "            initializers=tape.initializers,\n",
    "            opset_imports={\"\": 23},\n",
    "            name=\"main_graph\",\n",
    "        ),\n",
    "        ir_version=10,\n",
    "    )\n",
    "\n",
    "    return model"
   ]
  },
  {
   "cell_type": "markdown",
   "id": "9da7a8dd",
   "metadata": {},
   "source": [
    "### 2. Replace some initializers"
   ]
  },
  {
   "cell_type": "code",
   "execution_count": 23,
   "id": "053b163c",
   "metadata": {},
   "outputs": [
    {
     "data": {
      "text/html": [
       "<pre style=\"white-space:pre;overflow-x:auto;line-height:normal;font-family:Menlo,'DejaVu Sans Mono',consolas,'Courier New',monospace\"></pre>\n"
      ],
      "text/plain": []
     },
     "metadata": {},
     "output_type": "display_data"
    },
    {
     "data": {
      "text/html": [
       "<pre style=\"white-space:pre;overflow-x:auto;line-height:normal;font-family:Menlo,'DejaVu Sans Mono',consolas,'Courier New',monospace\">Tensor<span style=\"font-weight: bold\">&lt;</span><span style=\"color: #ff00ff; text-decoration-color: #ff00ff; font-weight: bold\">FLOAT</span><span style=\"color: #000000; text-decoration-color: #000000\">,</span><span style=\"color: #000000; text-decoration-color: #000000; font-weight: bold\">[</span><span style=\"color: #008080; text-decoration-color: #008080; font-weight: bold\">16</span><span style=\"color: #000000; text-decoration-color: #000000\">,</span><span style=\"color: #008080; text-decoration-color: #008080; font-weight: bold\">16</span><span style=\"color: #000000; text-decoration-color: #000000; font-weight: bold\">]</span><span style=\"font-weight: bold\">&gt;(</span><span style=\"color: #800080; text-decoration-color: #800080; font-weight: bold\">array</span><span style=\"font-weight: bold\">([[</span><span style=\"color: #008080; text-decoration-color: #008080; font-weight: bold\">0.48794413</span>, <span style=\"color: #008080; text-decoration-color: #008080; font-weight: bold\">0.37564784</span>, <span style=\"color: #008080; text-decoration-color: #008080; font-weight: bold\">0.646931</span>  , <span style=\"color: #008080; text-decoration-color: #008080; font-weight: bold\">0.1451041</span> , <span style=\"color: #008080; text-decoration-color: #008080; font-weight: bold\">0.00512798</span>, <span style=\"color: #008080; text-decoration-color: #008080; font-weight: bold\">0.33926377</span>, <span style=\"color: #008080; text-decoration-color: #008080; font-weight: bold\">0.60621136</span>, \n",
       "<span style=\"color: #008080; text-decoration-color: #008080; font-weight: bold\">0.45370337</span>, <span style=\"color: #008080; text-decoration-color: #008080; font-weight: bold\">0.33162656</span>, <span style=\"color: #008080; text-decoration-color: #008080; font-weight: bold\">0.190542</span>  , <span style=\"color: #008080; text-decoration-color: #008080; font-weight: bold\">0.21808352</span>, <span style=\"color: #008080; text-decoration-color: #008080; font-weight: bold\">0.19473173</span>, <span style=\"color: #008080; text-decoration-color: #008080; font-weight: bold\">0.20885149</span>, <span style=\"color: #008080; text-decoration-color: #008080; font-weight: bold\">0.6684639</span> , <span style=\"color: #008080; text-decoration-color: #008080; font-weight: bold\">0.52152795</span>, <span style=\"color: #008080; text-decoration-color: #008080; font-weight: bold\">0.86171544</span><span style=\"font-weight: bold\">]</span>, \n",
       "<span style=\"font-weight: bold\">[</span><span style=\"color: #008080; text-decoration-color: #008080; font-weight: bold\">0.49663422</span>, <span style=\"color: #008080; text-decoration-color: #008080; font-weight: bold\">0.6925561</span> , <span style=\"color: #008080; text-decoration-color: #008080; font-weight: bold\">0.11541724</span>, <span style=\"color: #008080; text-decoration-color: #008080; font-weight: bold\">0.20630342</span>, <span style=\"color: #008080; text-decoration-color: #008080; font-weight: bold\">0.98236555</span>, <span style=\"color: #008080; text-decoration-color: #008080; font-weight: bold\">0.81081724</span>, <span style=\"color: #008080; text-decoration-color: #008080; font-weight: bold\">0.8174751</span> , <span style=\"color: #008080; text-decoration-color: #008080; font-weight: bold\">0.43920037</span>, <span style=\"color: #008080; text-decoration-color: #008080; font-weight: bold\">0.3933322</span> , \n",
       "<span style=\"color: #008080; text-decoration-color: #008080; font-weight: bold\">0.09877441</span>, <span style=\"color: #008080; text-decoration-color: #008080; font-weight: bold\">0.89563113</span>, <span style=\"color: #008080; text-decoration-color: #008080; font-weight: bold\">0.44094598</span>, <span style=\"color: #008080; text-decoration-color: #008080; font-weight: bold\">0.14066125</span>, <span style=\"color: #008080; text-decoration-color: #008080; font-weight: bold\">0.11981746</span>, <span style=\"color: #008080; text-decoration-color: #008080; font-weight: bold\">0.59848124</span>, <span style=\"color: #008080; text-decoration-color: #008080; font-weight: bold\">0.25461426</span><span style=\"font-weight: bold\">]</span>, <span style=\"font-weight: bold\">[</span><span style=\"color: #008080; text-decoration-color: #008080; font-weight: bold\">0.39299694</span>, <span style=\"color: #008080; text-decoration-color: #008080; font-weight: bold\">0.03681421</span>, \n",
       "<span style=\"color: #008080; text-decoration-color: #008080; font-weight: bold\">0.5066049</span> , <span style=\"color: #008080; text-decoration-color: #008080; font-weight: bold\">0.2512647</span> , <span style=\"color: #008080; text-decoration-color: #008080; font-weight: bold\">0.20144394</span>, <span style=\"color: #008080; text-decoration-color: #008080; font-weight: bold\">0.16203453</span>, <span style=\"color: #008080; text-decoration-color: #008080; font-weight: bold\">0.7727595</span> , <span style=\"color: #008080; text-decoration-color: #008080; font-weight: bold\">0.8401172</span> , <span style=\"color: #008080; text-decoration-color: #008080; font-weight: bold\">0.05992422</span>, <span style=\"color: #008080; text-decoration-color: #008080; font-weight: bold\">0.06714439</span>, <span style=\"color: #008080; text-decoration-color: #008080; font-weight: bold\">0.52033174</span>, \n",
       "<span style=\"color: #008080; text-decoration-color: #008080; font-weight: bold\">0.00171337</span>, <span style=\"color: #008080; text-decoration-color: #008080; font-weight: bold\">0.25144818</span>, <span style=\"color: #008080; text-decoration-color: #008080; font-weight: bold\">0.6825386</span> , <span style=\"color: #008080; text-decoration-color: #008080; font-weight: bold\">0.08284873</span>, <span style=\"color: #008080; text-decoration-color: #008080; font-weight: bold\">0.15570474</span><span style=\"font-weight: bold\">]</span>, <span style=\"font-weight: bold\">[</span><span style=\"color: #008080; text-decoration-color: #008080; font-weight: bold\">0.21498488</span>, <span style=\"color: #008080; text-decoration-color: #008080; font-weight: bold\">0.14031397</span>, <span style=\"color: #008080; text-decoration-color: #008080; font-weight: bold\">0.7428406</span> , <span style=\"color: #008080; text-decoration-color: #008080; font-weight: bold\">0.43695948</span>, \n",
       "<span style=\"color: #008080; text-decoration-color: #008080; font-weight: bold\">0.16902204</span>, <span style=\"color: #008080; text-decoration-color: #008080; font-weight: bold\">0.22256295</span>, <span style=\"color: #008080; text-decoration-color: #008080; font-weight: bold\">0.6634157</span> , <span style=\"color: #008080; text-decoration-color: #008080; font-weight: bold\">0.58190733</span>, <span style=\"color: #008080; text-decoration-color: #008080; font-weight: bold\">0.6638061</span> , <span style=\"color: #008080; text-decoration-color: #008080; font-weight: bold\">0.16951245</span>, <span style=\"color: #008080; text-decoration-color: #008080; font-weight: bold\">0.710005</span>  , <span style=\"color: #008080; text-decoration-color: #008080; font-weight: bold\">0.22019322</span>, <span style=\"color: #008080; text-decoration-color: #008080; font-weight: bold\">0.59997475</span>, \n",
       "<span style=\"color: #008080; text-decoration-color: #008080; font-weight: bold\">0.2529446</span> , <span style=\"color: #008080; text-decoration-color: #008080; font-weight: bold\">0.3284442</span> , <span style=\"color: #008080; text-decoration-color: #008080; font-weight: bold\">0.5703782</span> <span style=\"font-weight: bold\">]</span>, <span style=\"font-weight: bold\">[</span><span style=\"color: #008080; text-decoration-color: #008080; font-weight: bold\">0.5006518</span> , <span style=\"color: #008080; text-decoration-color: #008080; font-weight: bold\">0.87583464</span>, <span style=\"color: #008080; text-decoration-color: #008080; font-weight: bold\">0.49306166</span>, <span style=\"color: #008080; text-decoration-color: #008080; font-weight: bold\">0.15325034</span>, <span style=\"color: #008080; text-decoration-color: #008080; font-weight: bold\">0.12398469</span>, <span style=\"color: #008080; text-decoration-color: #008080; font-weight: bold\">0.6065498</span> , \n",
       "<span style=\"color: #008080; text-decoration-color: #008080; font-weight: bold\">0.12014221</span>, <span style=\"color: #008080; text-decoration-color: #008080; font-weight: bold\">0.45753038</span>, <span style=\"color: #008080; text-decoration-color: #008080; font-weight: bold\">0.85208696</span>, <span style=\"color: #008080; text-decoration-color: #008080; font-weight: bold\">0.79901165</span>, <span style=\"color: #008080; text-decoration-color: #008080; font-weight: bold\">0.18765211</span>, <span style=\"color: #008080; text-decoration-color: #008080; font-weight: bold\">0.85117286</span>, <span style=\"color: #008080; text-decoration-color: #008080; font-weight: bold\">0.958803</span>  , <span style=\"color: #008080; text-decoration-color: #008080; font-weight: bold\">0.74697036</span>, <span style=\"color: #008080; text-decoration-color: #008080; font-weight: bold\">0.09380716</span>, \n",
       "<span style=\"color: #008080; text-decoration-color: #008080; font-weight: bold\">0.92195207</span><span style=\"font-weight: bold\">]</span>, <span style=\"font-weight: bold\">[</span><span style=\"color: #008080; text-decoration-color: #008080; font-weight: bold\">0.42951605</span>, <span style=\"color: #008080; text-decoration-color: #008080; font-weight: bold\">0.42845255</span>, <span style=\"color: #008080; text-decoration-color: #008080; font-weight: bold\">0.98265636</span>, <span style=\"color: #008080; text-decoration-color: #008080; font-weight: bold\">0.5173211</span> , <span style=\"color: #008080; text-decoration-color: #008080; font-weight: bold\">0.81635123</span>, <span style=\"color: #008080; text-decoration-color: #008080; font-weight: bold\">0.3218149</span> , <span style=\"color: #008080; text-decoration-color: #008080; font-weight: bold\">0.7491496</span> , <span style=\"color: #008080; text-decoration-color: #008080; font-weight: bold\">0.69889665</span>, \n",
       "<span style=\"color: #008080; text-decoration-color: #008080; font-weight: bold\">0.06406955</span>, <span style=\"color: #008080; text-decoration-color: #008080; font-weight: bold\">0.38574502</span>, <span style=\"color: #008080; text-decoration-color: #008080; font-weight: bold\">0.02530624</span>, <span style=\"color: #008080; text-decoration-color: #008080; font-weight: bold\">0.11623917</span>, <span style=\"color: #008080; text-decoration-color: #008080; font-weight: bold\">0.5011012</span> , <span style=\"color: #008080; text-decoration-color: #008080; font-weight: bold\">0.3441589</span> , <span style=\"color: #008080; text-decoration-color: #008080; font-weight: bold\">0.2059734</span> , <span style=\"color: #008080; text-decoration-color: #008080; font-weight: bold\">0.31884694</span><span style=\"font-weight: bold\">]</span>, <span style=\"font-weight: bold\">[</span><span style=\"color: #008080; text-decoration-color: #008080; font-weight: bold\">0.577229</span>  , \n",
       "<span style=\"color: #008080; text-decoration-color: #008080; font-weight: bold\">0.57820284</span>, <span style=\"color: #008080; text-decoration-color: #008080; font-weight: bold\">0.9819241</span> , <span style=\"color: #008080; text-decoration-color: #008080; font-weight: bold\">0.10528568</span>, <span style=\"color: #008080; text-decoration-color: #008080; font-weight: bold\">0.05719717</span>, <span style=\"color: #008080; text-decoration-color: #008080; font-weight: bold\">0.81067747</span>, <span style=\"color: #008080; text-decoration-color: #008080; font-weight: bold\">0.22649768</span>, <span style=\"color: #008080; text-decoration-color: #008080; font-weight: bold\">0.22390506</span>, <span style=\"color: #008080; text-decoration-color: #008080; font-weight: bold\">0.40414968</span>, <span style=\"color: #008080; text-decoration-color: #008080; font-weight: bold\">0.38568512</span>, \n",
       "<span style=\"color: #008080; text-decoration-color: #008080; font-weight: bold\">0.02173878</span>, <span style=\"color: #008080; text-decoration-color: #008080; font-weight: bold\">0.37844756</span>, <span style=\"color: #008080; text-decoration-color: #008080; font-weight: bold\">0.86168504</span>, <span style=\"color: #008080; text-decoration-color: #008080; font-weight: bold\">0.36159396</span>, <span style=\"color: #008080; text-decoration-color: #008080; font-weight: bold\">0.4253754</span> , <span style=\"color: #008080; text-decoration-color: #008080; font-weight: bold\">0.50405705</span><span style=\"font-weight: bold\">]</span>, <span style=\"font-weight: bold\">[</span><span style=\"color: #008080; text-decoration-color: #008080; font-weight: bold\">0.99689776</span>, <span style=\"color: #008080; text-decoration-color: #008080; font-weight: bold\">0.69047946</span>, <span style=\"color: #008080; text-decoration-color: #008080; font-weight: bold\">0.186792</span>  , \n",
       "<span style=\"color: #008080; text-decoration-color: #008080; font-weight: bold\">0.5388528</span> , <span style=\"color: #008080; text-decoration-color: #008080; font-weight: bold\">0.9996349</span> , <span style=\"color: #008080; text-decoration-color: #008080; font-weight: bold\">0.6803643</span> , <span style=\"color: #008080; text-decoration-color: #008080; font-weight: bold\">0.9179063</span> , <span style=\"color: #008080; text-decoration-color: #008080; font-weight: bold\">0.6334719</span> , <span style=\"color: #008080; text-decoration-color: #008080; font-weight: bold\">0.5604079</span> , <span style=\"color: #008080; text-decoration-color: #008080; font-weight: bold\">0.7733181</span> , <span style=\"color: #008080; text-decoration-color: #008080; font-weight: bold\">0.616506</span>  , <span style=\"color: #008080; text-decoration-color: #008080; font-weight: bold\">0.88604367</span>, \n",
       "<span style=\"color: #008080; text-decoration-color: #008080; font-weight: bold\">0.44138384</span>, <span style=\"color: #008080; text-decoration-color: #008080; font-weight: bold\">0.21676436</span>, <span style=\"color: #008080; text-decoration-color: #008080; font-weight: bold\">0.7513765</span> , <span style=\"color: #008080; text-decoration-color: #008080; font-weight: bold\">0.00272758</span><span style=\"font-weight: bold\">]</span>, <span style=\"font-weight: bold\">[</span><span style=\"color: #008080; text-decoration-color: #008080; font-weight: bold\">0.84101576</span>, <span style=\"color: #008080; text-decoration-color: #008080; font-weight: bold\">0.9317419</span> , <span style=\"color: #008080; text-decoration-color: #008080; font-weight: bold\">0.2155534</span> , <span style=\"color: #008080; text-decoration-color: #008080; font-weight: bold\">0.1364216</span> , <span style=\"color: #008080; text-decoration-color: #008080; font-weight: bold\">0.80795544</span>, \n",
       "<span style=\"color: #008080; text-decoration-color: #008080; font-weight: bold\">0.3515474</span> , <span style=\"color: #008080; text-decoration-color: #008080; font-weight: bold\">0.7475373</span> , <span style=\"color: #008080; text-decoration-color: #008080; font-weight: bold\">0.42448542</span>, <span style=\"color: #008080; text-decoration-color: #008080; font-weight: bold\">0.06523927</span>, <span style=\"color: #008080; text-decoration-color: #008080; font-weight: bold\">0.3390376</span> , <span style=\"color: #008080; text-decoration-color: #008080; font-weight: bold\">0.38688397</span>, <span style=\"color: #008080; text-decoration-color: #008080; font-weight: bold\">0.95620245</span>, <span style=\"color: #008080; text-decoration-color: #008080; font-weight: bold\">0.03685849</span>, <span style=\"color: #008080; text-decoration-color: #008080; font-weight: bold\">0.06425347</span>, \n",
       "<span style=\"color: #008080; text-decoration-color: #008080; font-weight: bold\">0.9992754</span> , <span style=\"color: #008080; text-decoration-color: #008080; font-weight: bold\">0.5059519</span> <span style=\"font-weight: bold\">]</span>, <span style=\"font-weight: bold\">[</span><span style=\"color: #008080; text-decoration-color: #008080; font-weight: bold\">0.04931008</span>, <span style=\"color: #008080; text-decoration-color: #008080; font-weight: bold\">0.43877056</span>, <span style=\"color: #008080; text-decoration-color: #008080; font-weight: bold\">0.60118806</span>, <span style=\"color: #008080; text-decoration-color: #008080; font-weight: bold\">0.650699</span>  , <span style=\"color: #008080; text-decoration-color: #008080; font-weight: bold\">0.619442</span>  , <span style=\"color: #008080; text-decoration-color: #008080; font-weight: bold\">0.74798703</span>, <span style=\"color: #008080; text-decoration-color: #008080; font-weight: bold\">0.090756</span>  , \n",
       "<span style=\"color: #008080; text-decoration-color: #008080; font-weight: bold\">0.29690343</span>, <span style=\"color: #008080; text-decoration-color: #008080; font-weight: bold\">0.83723223</span>, <span style=\"color: #008080; text-decoration-color: #008080; font-weight: bold\">0.5402168</span> , <span style=\"color: #008080; text-decoration-color: #008080; font-weight: bold\">0.8455248</span> , <span style=\"color: #008080; text-decoration-color: #008080; font-weight: bold\">0.74905574</span>, <span style=\"color: #008080; text-decoration-color: #008080; font-weight: bold\">0.5346829</span> , <span style=\"color: #008080; text-decoration-color: #008080; font-weight: bold\">0.2916724</span> , <span style=\"color: #008080; text-decoration-color: #008080; font-weight: bold\">0.46183303</span>, <span style=\"color: #008080; text-decoration-color: #008080; font-weight: bold\">0.42637402</span><span style=\"font-weight: bold\">]</span>, \n",
       "<span style=\"font-weight: bold\">[</span><span style=\"color: #008080; text-decoration-color: #008080; font-weight: bold\">0.93773186</span>, <span style=\"color: #008080; text-decoration-color: #008080; font-weight: bold\">0.02240606</span>, <span style=\"color: #008080; text-decoration-color: #008080; font-weight: bold\">0.15469854</span>, <span style=\"color: #008080; text-decoration-color: #008080; font-weight: bold\">0.5504482</span> , <span style=\"color: #008080; text-decoration-color: #008080; font-weight: bold\">0.70858437</span>, <span style=\"color: #008080; text-decoration-color: #008080; font-weight: bold\">0.55014485</span>, <span style=\"color: #008080; text-decoration-color: #008080; font-weight: bold\">0.6785477</span> , <span style=\"color: #008080; text-decoration-color: #008080; font-weight: bold\">0.18265791</span>, <span style=\"color: #008080; text-decoration-color: #008080; font-weight: bold\">0.22148678</span>, \n",
       "<span style=\"color: #008080; text-decoration-color: #008080; font-weight: bold\">0.48467344</span>, <span style=\"color: #008080; text-decoration-color: #008080; font-weight: bold\">0.17710513</span>, <span style=\"color: #008080; text-decoration-color: #008080; font-weight: bold\">0.0180437</span> , <span style=\"color: #008080; text-decoration-color: #008080; font-weight: bold\">0.4140666</span> , <span style=\"color: #008080; text-decoration-color: #008080; font-weight: bold\">0.30774</span>   , <span style=\"color: #008080; text-decoration-color: #008080; font-weight: bold\">0.9378072</span> , <span style=\"color: #008080; text-decoration-color: #008080; font-weight: bold\">0.2552333</span> <span style=\"font-weight: bold\">]</span>, <span style=\"font-weight: bold\">[</span><span style=\"color: #008080; text-decoration-color: #008080; font-weight: bold\">0.8354899</span> , <span style=\"color: #008080; text-decoration-color: #008080; font-weight: bold\">0.10369226</span>, \n",
       "<span style=\"color: #008080; text-decoration-color: #008080; font-weight: bold\">0.8844558</span> , <span style=\"color: #008080; text-decoration-color: #008080; font-weight: bold\">0.21960302</span>, <span style=\"color: #008080; text-decoration-color: #008080; font-weight: bold\">0.1703607</span> , <span style=\"color: #008080; text-decoration-color: #008080; font-weight: bold\">0.27043805</span>, <span style=\"color: #008080; text-decoration-color: #008080; font-weight: bold\">0.8281073</span> , <span style=\"color: #008080; text-decoration-color: #008080; font-weight: bold\">0.02655184</span>, <span style=\"color: #008080; text-decoration-color: #008080; font-weight: bold\">0.23483448</span>, <span style=\"color: #008080; text-decoration-color: #008080; font-weight: bold\">0.8989429</span> , <span style=\"color: #008080; text-decoration-color: #008080; font-weight: bold\">0.607386</span>  , \n",
       "<span style=\"color: #008080; text-decoration-color: #008080; font-weight: bold\">0.08340706</span>, <span style=\"color: #008080; text-decoration-color: #008080; font-weight: bold\">0.9285259</span> , <span style=\"color: #008080; text-decoration-color: #008080; font-weight: bold\">0.09208788</span>, <span style=\"color: #008080; text-decoration-color: #008080; font-weight: bold\">0.73677915</span>, <span style=\"color: #008080; text-decoration-color: #008080; font-weight: bold\">0.7331335</span> <span style=\"font-weight: bold\">]</span>, <span style=\"font-weight: bold\">[</span><span style=\"color: #008080; text-decoration-color: #008080; font-weight: bold\">0.08062557</span>, <span style=\"color: #008080; text-decoration-color: #008080; font-weight: bold\">0.18003123</span>, <span style=\"color: #008080; text-decoration-color: #008080; font-weight: bold\">0.9209848</span> , <span style=\"color: #008080; text-decoration-color: #008080; font-weight: bold\">0.17361055</span>, \n",
       "<span style=\"color: #008080; text-decoration-color: #008080; font-weight: bold\">0.22648598</span>, <span style=\"color: #008080; text-decoration-color: #008080; font-weight: bold\">0.6863814</span> , <span style=\"color: #008080; text-decoration-color: #008080; font-weight: bold\">0.40177515</span>, <span style=\"color: #008080; text-decoration-color: #008080; font-weight: bold\">0.45734933</span>, <span style=\"color: #008080; text-decoration-color: #008080; font-weight: bold\">0.23541933</span>, <span style=\"color: #008080; text-decoration-color: #008080; font-weight: bold\">0.7086931</span> , <span style=\"color: #008080; text-decoration-color: #008080; font-weight: bold\">0.37085983</span>, <span style=\"color: #008080; text-decoration-color: #008080; font-weight: bold\">0.9552729</span> , <span style=\"color: #008080; text-decoration-color: #008080; font-weight: bold\">0.64784926</span>, \n",
       "<span style=\"color: #008080; text-decoration-color: #008080; font-weight: bold\">0.80490404</span>, <span style=\"color: #008080; text-decoration-color: #008080; font-weight: bold\">0.88512075</span>, <span style=\"color: #008080; text-decoration-color: #008080; font-weight: bold\">0.29762906</span><span style=\"font-weight: bold\">]</span>, <span style=\"font-weight: bold\">[</span><span style=\"color: #008080; text-decoration-color: #008080; font-weight: bold\">0.02504105</span>, <span style=\"color: #008080; text-decoration-color: #008080; font-weight: bold\">0.9105067</span> , <span style=\"color: #008080; text-decoration-color: #008080; font-weight: bold\">0.49034315</span>, <span style=\"color: #008080; text-decoration-color: #008080; font-weight: bold\">0.7740004</span> , <span style=\"color: #008080; text-decoration-color: #008080; font-weight: bold\">0.9097915</span> , <span style=\"color: #008080; text-decoration-color: #008080; font-weight: bold\">0.6810732</span> , \n",
       "<span style=\"color: #008080; text-decoration-color: #008080; font-weight: bold\">0.4313761</span> , <span style=\"color: #008080; text-decoration-color: #008080; font-weight: bold\">0.91411716</span>, <span style=\"color: #008080; text-decoration-color: #008080; font-weight: bold\">0.5457693</span> , <span style=\"color: #008080; text-decoration-color: #008080; font-weight: bold\">0.771856</span>  , <span style=\"color: #008080; text-decoration-color: #008080; font-weight: bold\">0.5341072</span> , <span style=\"color: #008080; text-decoration-color: #008080; font-weight: bold\">0.13470322</span>, <span style=\"color: #008080; text-decoration-color: #008080; font-weight: bold\">0.02397172</span>, <span style=\"color: #008080; text-decoration-color: #008080; font-weight: bold\">0.78177917</span>, <span style=\"color: #008080; text-decoration-color: #008080; font-weight: bold\">0.62038386</span>, \n",
       "<span style=\"color: #008080; text-decoration-color: #008080; font-weight: bold\">0.44721615</span><span style=\"font-weight: bold\">]</span>, <span style=\"font-weight: bold\">[</span><span style=\"color: #008080; text-decoration-color: #008080; font-weight: bold\">0.5375618</span> , <span style=\"color: #008080; text-decoration-color: #008080; font-weight: bold\">0.5746843</span> , <span style=\"color: #008080; text-decoration-color: #008080; font-weight: bold\">0.10875943</span>, <span style=\"color: #008080; text-decoration-color: #008080; font-weight: bold\">0.4944015</span> , <span style=\"color: #008080; text-decoration-color: #008080; font-weight: bold\">0.66971284</span>, <span style=\"color: #008080; text-decoration-color: #008080; font-weight: bold\">0.62009263</span>, <span style=\"color: #008080; text-decoration-color: #008080; font-weight: bold\">0.6972071</span> , <span style=\"color: #008080; text-decoration-color: #008080; font-weight: bold\">0.96035165</span>, \n",
       "<span style=\"color: #008080; text-decoration-color: #008080; font-weight: bold\">0.11824181</span>, <span style=\"color: #008080; text-decoration-color: #008080; font-weight: bold\">0.5843182</span> , <span style=\"color: #008080; text-decoration-color: #008080; font-weight: bold\">0.09219486</span>, <span style=\"color: #008080; text-decoration-color: #008080; font-weight: bold\">0.9571733</span> , <span style=\"color: #008080; text-decoration-color: #008080; font-weight: bold\">0.40124694</span>, <span style=\"color: #008080; text-decoration-color: #008080; font-weight: bold\">0.35149458</span>, <span style=\"color: #008080; text-decoration-color: #008080; font-weight: bold\">0.40311018</span>, <span style=\"color: #008080; text-decoration-color: #008080; font-weight: bold\">0.6929439</span> <span style=\"font-weight: bold\">]</span>, <span style=\"font-weight: bold\">[</span><span style=\"color: #008080; text-decoration-color: #008080; font-weight: bold\">0.89384824</span>, \n",
       "<span style=\"color: #008080; text-decoration-color: #008080; font-weight: bold\">0.10437008</span>, <span style=\"color: #008080; text-decoration-color: #008080; font-weight: bold\">0.84827054</span>, <span style=\"color: #008080; text-decoration-color: #008080; font-weight: bold\">0.5845285</span> , <span style=\"color: #008080; text-decoration-color: #008080; font-weight: bold\">0.6556607</span> , <span style=\"color: #008080; text-decoration-color: #008080; font-weight: bold\">0.00616558</span>, <span style=\"color: #008080; text-decoration-color: #008080; font-weight: bold\">0.89488786</span>, <span style=\"color: #008080; text-decoration-color: #008080; font-weight: bold\">0.5080533</span> , <span style=\"color: #008080; text-decoration-color: #008080; font-weight: bold\">0.33442673</span>, <span style=\"color: #008080; text-decoration-color: #008080; font-weight: bold\">0.8220109</span> , \n",
       "<span style=\"color: #008080; text-decoration-color: #008080; font-weight: bold\">0.12484946</span>, <span style=\"color: #008080; text-decoration-color: #008080; font-weight: bold\">0.9344894</span> , <span style=\"color: #008080; text-decoration-color: #008080; font-weight: bold\">0.5621439</span> , <span style=\"color: #008080; text-decoration-color: #008080; font-weight: bold\">0.6137998</span> , <span style=\"color: #008080; text-decoration-color: #008080; font-weight: bold\">0.46775892</span>, <span style=\"color: #008080; text-decoration-color: #008080; font-weight: bold\">0.19139378</span><span style=\"font-weight: bold\">]]</span>, <span style=\"color: #808000; text-decoration-color: #808000\">dtype</span>=<span style=\"color: #800080; text-decoration-color: #800080\">float32</span><span style=\"font-weight: bold\">)</span>, <span style=\"color: #808000; text-decoration-color: #808000\">name</span>=<span style=\"color: #800080; text-decoration-color: #800080; font-style: italic\">None</span><span style=\"font-weight: bold\">)</span>\n",
       "\n",
       "Min: <span style=\"color: #008080; text-decoration-color: #008080; font-weight: bold\">0.0017133677611127496</span>, Max: <span style=\"color: #008080; text-decoration-color: #008080; font-weight: bold\">0.9996349215507507</span>, NaN count: <span style=\"color: #008080; text-decoration-color: #008080; font-weight: bold\">0</span>, Inf count: <span style=\"color: #008080; text-decoration-color: #008080; font-weight: bold\">0</span>\n",
       "Sparsity <span style=\"font-weight: bold\">(</span>abs&lt;<span style=\"color: #008080; text-decoration-color: #008080; font-weight: bold\">1e-06</span><span style=\"font-weight: bold\">)</span>: <span style=\"color: #008080; text-decoration-color: #008080; font-weight: bold\">0.00</span>\n",
       "Histogram:\n",
       "       <span style=\"color: #008080; text-decoration-color: #008080; font-weight: bold\">9</span> ┼                ╭╮\n",
       "       <span style=\"color: #008080; text-decoration-color: #008080; font-weight: bold\">8</span> ┤                ││\n",
       "       <span style=\"color: #008080; text-decoration-color: #008080; font-weight: bold\">7</span> ┤╭╮      ╭╮      ││\n",
       "       <span style=\"color: #008080; text-decoration-color: #008080; font-weight: bold\">6</span> ┤││      ││      ││                                        ╭╮\n",
       "       <span style=\"color: #008080; text-decoration-color: #008080; font-weight: bold\">4</span> ┼╯│    ╭─╯│ ╭──╮╭╯╰╮╭╮        ╭╮╭╮╭──╮ ╭─╮ ╭╮ ╭╮╭─╮  ╭──╮  ││╭╮ ╭╮ ╭─╮╭─╮╭╮ ╭╮\n",
       "       <span style=\"color: #008080; text-decoration-color: #008080; font-weight: bold\">3</span> ┤ │ ╭──╯  │╭╯  ╰╯  │││ ╭╮ ╭──╮│││╰╯  │ │ ╰─╯│ │││ │  │  ╰╮ ││││ │╰─╯ ││ ││╰╮││╭─\n",
       "       <span style=\"color: #008080; text-decoration-color: #008080; font-weight: bold\">2</span> ┤ ╰╮│     ╰╯       │││ ││╭╯  ╰╯╰╯    │╭╯    ╰─╯╰╯ │╭─╯   │╭╯│││ │    ││ ╰╯ ╰╯││\n",
       "       <span style=\"color: #008080; text-decoration-color: #008080; font-weight: bold\">1</span> ┤  ╰╯              ││╰╮│╰╯           ╰╯           ╰╯     ││ ╰╯╰─╯    ││      ││\n",
       "       <span style=\"color: #008080; text-decoration-color: #008080; font-weight: bold\">0</span> ┤                  ╰╯ ╰╯                                 ╰╯          ╰╯      ╰╯\n",
       "     <span style=\"color: #008080; text-decoration-color: #008080; font-weight: bold\">0.0017</span>  <span style=\"color: #008080; text-decoration-color: #008080; font-weight: bold\">0.0890</span>  <span style=\"color: #008080; text-decoration-color: #008080; font-weight: bold\">0.1888</span>  <span style=\"color: #008080; text-decoration-color: #008080; font-weight: bold\">0.2761</span>  <span style=\"color: #008080; text-decoration-color: #008080; font-weight: bold\">0.3759</span>  <span style=\"color: #008080; text-decoration-color: #008080; font-weight: bold\">0.4633</span>  <span style=\"color: #008080; text-decoration-color: #008080; font-weight: bold\">0.5630</span>  <span style=\"color: #008080; text-decoration-color: #008080; font-weight: bold\">0.6504</span>  <span style=\"color: #008080; text-decoration-color: #008080; font-weight: bold\">0.7502</span>  <span style=\"color: #008080; text-decoration-color: #008080; font-weight: bold\">0.8375</span>  <span style=\"color: #008080; text-decoration-color: #008080; font-weight: bold\">0.9373</span>\n",
       "</pre>\n"
      ],
      "text/plain": [
       "Tensor\u001b[1m<\u001b[0m\u001b[1;95mFLOAT\u001b[0m\u001b[39m,\u001b[0m\u001b[1;39m[\u001b[0m\u001b[1;36m16\u001b[0m\u001b[39m,\u001b[0m\u001b[1;36m16\u001b[0m\u001b[1;39m]\u001b[0m\u001b[1m>\u001b[0m\u001b[1m(\u001b[0m\u001b[1;35marray\u001b[0m\u001b[1m(\u001b[0m\u001b[1m[\u001b[0m\u001b[1m[\u001b[0m\u001b[1;36m0.48794413\u001b[0m, \u001b[1;36m0.37564784\u001b[0m, \u001b[1;36m0.646931\u001b[0m  , \u001b[1;36m0.1451041\u001b[0m , \u001b[1;36m0.00512798\u001b[0m, \u001b[1;36m0.33926377\u001b[0m, \u001b[1;36m0.60621136\u001b[0m, \n",
       "\u001b[1;36m0.45370337\u001b[0m, \u001b[1;36m0.33162656\u001b[0m, \u001b[1;36m0.190542\u001b[0m  , \u001b[1;36m0.21808352\u001b[0m, \u001b[1;36m0.19473173\u001b[0m, \u001b[1;36m0.20885149\u001b[0m, \u001b[1;36m0.6684639\u001b[0m , \u001b[1;36m0.52152795\u001b[0m, \u001b[1;36m0.86171544\u001b[0m\u001b[1m]\u001b[0m, \n",
       "\u001b[1m[\u001b[0m\u001b[1;36m0.49663422\u001b[0m, \u001b[1;36m0.6925561\u001b[0m , \u001b[1;36m0.11541724\u001b[0m, \u001b[1;36m0.20630342\u001b[0m, \u001b[1;36m0.98236555\u001b[0m, \u001b[1;36m0.81081724\u001b[0m, \u001b[1;36m0.8174751\u001b[0m , \u001b[1;36m0.43920037\u001b[0m, \u001b[1;36m0.3933322\u001b[0m , \n",
       "\u001b[1;36m0.09877441\u001b[0m, \u001b[1;36m0.89563113\u001b[0m, \u001b[1;36m0.44094598\u001b[0m, \u001b[1;36m0.14066125\u001b[0m, \u001b[1;36m0.11981746\u001b[0m, \u001b[1;36m0.59848124\u001b[0m, \u001b[1;36m0.25461426\u001b[0m\u001b[1m]\u001b[0m, \u001b[1m[\u001b[0m\u001b[1;36m0.39299694\u001b[0m, \u001b[1;36m0.03681421\u001b[0m, \n",
       "\u001b[1;36m0.5066049\u001b[0m , \u001b[1;36m0.2512647\u001b[0m , \u001b[1;36m0.20144394\u001b[0m, \u001b[1;36m0.16203453\u001b[0m, \u001b[1;36m0.7727595\u001b[0m , \u001b[1;36m0.8401172\u001b[0m , \u001b[1;36m0.05992422\u001b[0m, \u001b[1;36m0.06714439\u001b[0m, \u001b[1;36m0.52033174\u001b[0m, \n",
       "\u001b[1;36m0.00171337\u001b[0m, \u001b[1;36m0.25144818\u001b[0m, \u001b[1;36m0.6825386\u001b[0m , \u001b[1;36m0.08284873\u001b[0m, \u001b[1;36m0.15570474\u001b[0m\u001b[1m]\u001b[0m, \u001b[1m[\u001b[0m\u001b[1;36m0.21498488\u001b[0m, \u001b[1;36m0.14031397\u001b[0m, \u001b[1;36m0.7428406\u001b[0m , \u001b[1;36m0.43695948\u001b[0m, \n",
       "\u001b[1;36m0.16902204\u001b[0m, \u001b[1;36m0.22256295\u001b[0m, \u001b[1;36m0.6634157\u001b[0m , \u001b[1;36m0.58190733\u001b[0m, \u001b[1;36m0.6638061\u001b[0m , \u001b[1;36m0.16951245\u001b[0m, \u001b[1;36m0.710005\u001b[0m  , \u001b[1;36m0.22019322\u001b[0m, \u001b[1;36m0.59997475\u001b[0m, \n",
       "\u001b[1;36m0.2529446\u001b[0m , \u001b[1;36m0.3284442\u001b[0m , \u001b[1;36m0.5703782\u001b[0m \u001b[1m]\u001b[0m, \u001b[1m[\u001b[0m\u001b[1;36m0.5006518\u001b[0m , \u001b[1;36m0.87583464\u001b[0m, \u001b[1;36m0.49306166\u001b[0m, \u001b[1;36m0.15325034\u001b[0m, \u001b[1;36m0.12398469\u001b[0m, \u001b[1;36m0.6065498\u001b[0m , \n",
       "\u001b[1;36m0.12014221\u001b[0m, \u001b[1;36m0.45753038\u001b[0m, \u001b[1;36m0.85208696\u001b[0m, \u001b[1;36m0.79901165\u001b[0m, \u001b[1;36m0.18765211\u001b[0m, \u001b[1;36m0.85117286\u001b[0m, \u001b[1;36m0.958803\u001b[0m  , \u001b[1;36m0.74697036\u001b[0m, \u001b[1;36m0.09380716\u001b[0m, \n",
       "\u001b[1;36m0.92195207\u001b[0m\u001b[1m]\u001b[0m, \u001b[1m[\u001b[0m\u001b[1;36m0.42951605\u001b[0m, \u001b[1;36m0.42845255\u001b[0m, \u001b[1;36m0.98265636\u001b[0m, \u001b[1;36m0.5173211\u001b[0m , \u001b[1;36m0.81635123\u001b[0m, \u001b[1;36m0.3218149\u001b[0m , \u001b[1;36m0.7491496\u001b[0m , \u001b[1;36m0.69889665\u001b[0m, \n",
       "\u001b[1;36m0.06406955\u001b[0m, \u001b[1;36m0.38574502\u001b[0m, \u001b[1;36m0.02530624\u001b[0m, \u001b[1;36m0.11623917\u001b[0m, \u001b[1;36m0.5011012\u001b[0m , \u001b[1;36m0.3441589\u001b[0m , \u001b[1;36m0.2059734\u001b[0m , \u001b[1;36m0.31884694\u001b[0m\u001b[1m]\u001b[0m, \u001b[1m[\u001b[0m\u001b[1;36m0.577229\u001b[0m  , \n",
       "\u001b[1;36m0.57820284\u001b[0m, \u001b[1;36m0.9819241\u001b[0m , \u001b[1;36m0.10528568\u001b[0m, \u001b[1;36m0.05719717\u001b[0m, \u001b[1;36m0.81067747\u001b[0m, \u001b[1;36m0.22649768\u001b[0m, \u001b[1;36m0.22390506\u001b[0m, \u001b[1;36m0.40414968\u001b[0m, \u001b[1;36m0.38568512\u001b[0m, \n",
       "\u001b[1;36m0.02173878\u001b[0m, \u001b[1;36m0.37844756\u001b[0m, \u001b[1;36m0.86168504\u001b[0m, \u001b[1;36m0.36159396\u001b[0m, \u001b[1;36m0.4253754\u001b[0m , \u001b[1;36m0.50405705\u001b[0m\u001b[1m]\u001b[0m, \u001b[1m[\u001b[0m\u001b[1;36m0.99689776\u001b[0m, \u001b[1;36m0.69047946\u001b[0m, \u001b[1;36m0.186792\u001b[0m  , \n",
       "\u001b[1;36m0.5388528\u001b[0m , \u001b[1;36m0.9996349\u001b[0m , \u001b[1;36m0.6803643\u001b[0m , \u001b[1;36m0.9179063\u001b[0m , \u001b[1;36m0.6334719\u001b[0m , \u001b[1;36m0.5604079\u001b[0m , \u001b[1;36m0.7733181\u001b[0m , \u001b[1;36m0.616506\u001b[0m  , \u001b[1;36m0.88604367\u001b[0m, \n",
       "\u001b[1;36m0.44138384\u001b[0m, \u001b[1;36m0.21676436\u001b[0m, \u001b[1;36m0.7513765\u001b[0m , \u001b[1;36m0.00272758\u001b[0m\u001b[1m]\u001b[0m, \u001b[1m[\u001b[0m\u001b[1;36m0.84101576\u001b[0m, \u001b[1;36m0.9317419\u001b[0m , \u001b[1;36m0.2155534\u001b[0m , \u001b[1;36m0.1364216\u001b[0m , \u001b[1;36m0.80795544\u001b[0m, \n",
       "\u001b[1;36m0.3515474\u001b[0m , \u001b[1;36m0.7475373\u001b[0m , \u001b[1;36m0.42448542\u001b[0m, \u001b[1;36m0.06523927\u001b[0m, \u001b[1;36m0.3390376\u001b[0m , \u001b[1;36m0.38688397\u001b[0m, \u001b[1;36m0.95620245\u001b[0m, \u001b[1;36m0.03685849\u001b[0m, \u001b[1;36m0.06425347\u001b[0m, \n",
       "\u001b[1;36m0.9992754\u001b[0m , \u001b[1;36m0.5059519\u001b[0m \u001b[1m]\u001b[0m, \u001b[1m[\u001b[0m\u001b[1;36m0.04931008\u001b[0m, \u001b[1;36m0.43877056\u001b[0m, \u001b[1;36m0.60118806\u001b[0m, \u001b[1;36m0.650699\u001b[0m  , \u001b[1;36m0.619442\u001b[0m  , \u001b[1;36m0.74798703\u001b[0m, \u001b[1;36m0.090756\u001b[0m  , \n",
       "\u001b[1;36m0.29690343\u001b[0m, \u001b[1;36m0.83723223\u001b[0m, \u001b[1;36m0.5402168\u001b[0m , \u001b[1;36m0.8455248\u001b[0m , \u001b[1;36m0.74905574\u001b[0m, \u001b[1;36m0.5346829\u001b[0m , \u001b[1;36m0.2916724\u001b[0m , \u001b[1;36m0.46183303\u001b[0m, \u001b[1;36m0.42637402\u001b[0m\u001b[1m]\u001b[0m, \n",
       "\u001b[1m[\u001b[0m\u001b[1;36m0.93773186\u001b[0m, \u001b[1;36m0.02240606\u001b[0m, \u001b[1;36m0.15469854\u001b[0m, \u001b[1;36m0.5504482\u001b[0m , \u001b[1;36m0.70858437\u001b[0m, \u001b[1;36m0.55014485\u001b[0m, \u001b[1;36m0.6785477\u001b[0m , \u001b[1;36m0.18265791\u001b[0m, \u001b[1;36m0.22148678\u001b[0m, \n",
       "\u001b[1;36m0.48467344\u001b[0m, \u001b[1;36m0.17710513\u001b[0m, \u001b[1;36m0.0180437\u001b[0m , \u001b[1;36m0.4140666\u001b[0m , \u001b[1;36m0.30774\u001b[0m   , \u001b[1;36m0.9378072\u001b[0m , \u001b[1;36m0.2552333\u001b[0m \u001b[1m]\u001b[0m, \u001b[1m[\u001b[0m\u001b[1;36m0.8354899\u001b[0m , \u001b[1;36m0.10369226\u001b[0m, \n",
       "\u001b[1;36m0.8844558\u001b[0m , \u001b[1;36m0.21960302\u001b[0m, \u001b[1;36m0.1703607\u001b[0m , \u001b[1;36m0.27043805\u001b[0m, \u001b[1;36m0.8281073\u001b[0m , \u001b[1;36m0.02655184\u001b[0m, \u001b[1;36m0.23483448\u001b[0m, \u001b[1;36m0.8989429\u001b[0m , \u001b[1;36m0.607386\u001b[0m  , \n",
       "\u001b[1;36m0.08340706\u001b[0m, \u001b[1;36m0.9285259\u001b[0m , \u001b[1;36m0.09208788\u001b[0m, \u001b[1;36m0.73677915\u001b[0m, \u001b[1;36m0.7331335\u001b[0m \u001b[1m]\u001b[0m, \u001b[1m[\u001b[0m\u001b[1;36m0.08062557\u001b[0m, \u001b[1;36m0.18003123\u001b[0m, \u001b[1;36m0.9209848\u001b[0m , \u001b[1;36m0.17361055\u001b[0m, \n",
       "\u001b[1;36m0.22648598\u001b[0m, \u001b[1;36m0.6863814\u001b[0m , \u001b[1;36m0.40177515\u001b[0m, \u001b[1;36m0.45734933\u001b[0m, \u001b[1;36m0.23541933\u001b[0m, \u001b[1;36m0.7086931\u001b[0m , \u001b[1;36m0.37085983\u001b[0m, \u001b[1;36m0.9552729\u001b[0m , \u001b[1;36m0.64784926\u001b[0m, \n",
       "\u001b[1;36m0.80490404\u001b[0m, \u001b[1;36m0.88512075\u001b[0m, \u001b[1;36m0.29762906\u001b[0m\u001b[1m]\u001b[0m, \u001b[1m[\u001b[0m\u001b[1;36m0.02504105\u001b[0m, \u001b[1;36m0.9105067\u001b[0m , \u001b[1;36m0.49034315\u001b[0m, \u001b[1;36m0.7740004\u001b[0m , \u001b[1;36m0.9097915\u001b[0m , \u001b[1;36m0.6810732\u001b[0m , \n",
       "\u001b[1;36m0.4313761\u001b[0m , \u001b[1;36m0.91411716\u001b[0m, \u001b[1;36m0.5457693\u001b[0m , \u001b[1;36m0.771856\u001b[0m  , \u001b[1;36m0.5341072\u001b[0m , \u001b[1;36m0.13470322\u001b[0m, \u001b[1;36m0.02397172\u001b[0m, \u001b[1;36m0.78177917\u001b[0m, \u001b[1;36m0.62038386\u001b[0m, \n",
       "\u001b[1;36m0.44721615\u001b[0m\u001b[1m]\u001b[0m, \u001b[1m[\u001b[0m\u001b[1;36m0.5375618\u001b[0m , \u001b[1;36m0.5746843\u001b[0m , \u001b[1;36m0.10875943\u001b[0m, \u001b[1;36m0.4944015\u001b[0m , \u001b[1;36m0.66971284\u001b[0m, \u001b[1;36m0.62009263\u001b[0m, \u001b[1;36m0.6972071\u001b[0m , \u001b[1;36m0.96035165\u001b[0m, \n",
       "\u001b[1;36m0.11824181\u001b[0m, \u001b[1;36m0.5843182\u001b[0m , \u001b[1;36m0.09219486\u001b[0m, \u001b[1;36m0.9571733\u001b[0m , \u001b[1;36m0.40124694\u001b[0m, \u001b[1;36m0.35149458\u001b[0m, \u001b[1;36m0.40311018\u001b[0m, \u001b[1;36m0.6929439\u001b[0m \u001b[1m]\u001b[0m, \u001b[1m[\u001b[0m\u001b[1;36m0.89384824\u001b[0m, \n",
       "\u001b[1;36m0.10437008\u001b[0m, \u001b[1;36m0.84827054\u001b[0m, \u001b[1;36m0.5845285\u001b[0m , \u001b[1;36m0.6556607\u001b[0m , \u001b[1;36m0.00616558\u001b[0m, \u001b[1;36m0.89488786\u001b[0m, \u001b[1;36m0.5080533\u001b[0m , \u001b[1;36m0.33442673\u001b[0m, \u001b[1;36m0.8220109\u001b[0m , \n",
       "\u001b[1;36m0.12484946\u001b[0m, \u001b[1;36m0.9344894\u001b[0m , \u001b[1;36m0.5621439\u001b[0m , \u001b[1;36m0.6137998\u001b[0m , \u001b[1;36m0.46775892\u001b[0m, \u001b[1;36m0.19139378\u001b[0m\u001b[1m]\u001b[0m\u001b[1m]\u001b[0m, \u001b[33mdtype\u001b[0m=\u001b[35mfloat32\u001b[0m\u001b[1m)\u001b[0m, \u001b[33mname\u001b[0m=\u001b[3;35mNone\u001b[0m\u001b[1m)\u001b[0m\n",
       "\n",
       "Min: \u001b[1;36m0.0017133677611127496\u001b[0m, Max: \u001b[1;36m0.9996349215507507\u001b[0m, NaN count: \u001b[1;36m0\u001b[0m, Inf count: \u001b[1;36m0\u001b[0m\n",
       "Sparsity \u001b[1m(\u001b[0mabs<\u001b[1;36m1e-06\u001b[0m\u001b[1m)\u001b[0m: \u001b[1;36m0.00\u001b[0m\n",
       "Histogram:\n",
       "       \u001b[1;36m9\u001b[0m ┼                ╭╮\n",
       "       \u001b[1;36m8\u001b[0m ┤                ││\n",
       "       \u001b[1;36m7\u001b[0m ┤╭╮      ╭╮      ││\n",
       "       \u001b[1;36m6\u001b[0m ┤││      ││      ││                                        ╭╮\n",
       "       \u001b[1;36m4\u001b[0m ┼╯│    ╭─╯│ ╭──╮╭╯╰╮╭╮        ╭╮╭╮╭──╮ ╭─╮ ╭╮ ╭╮╭─╮  ╭──╮  ││╭╮ ╭╮ ╭─╮╭─╮╭╮ ╭╮\n",
       "       \u001b[1;36m3\u001b[0m ┤ │ ╭──╯  │╭╯  ╰╯  │││ ╭╮ ╭──╮│││╰╯  │ │ ╰─╯│ │││ │  │  ╰╮ ││││ │╰─╯ ││ ││╰╮││╭─\n",
       "       \u001b[1;36m2\u001b[0m ┤ ╰╮│     ╰╯       │││ ││╭╯  ╰╯╰╯    │╭╯    ╰─╯╰╯ │╭─╯   │╭╯│││ │    ││ ╰╯ ╰╯││\n",
       "       \u001b[1;36m1\u001b[0m ┤  ╰╯              ││╰╮│╰╯           ╰╯           ╰╯     ││ ╰╯╰─╯    ││      ││\n",
       "       \u001b[1;36m0\u001b[0m ┤                  ╰╯ ╰╯                                 ╰╯          ╰╯      ╰╯\n",
       "     \u001b[1;36m0.0017\u001b[0m  \u001b[1;36m0.0890\u001b[0m  \u001b[1;36m0.1888\u001b[0m  \u001b[1;36m0.2761\u001b[0m  \u001b[1;36m0.3759\u001b[0m  \u001b[1;36m0.4633\u001b[0m  \u001b[1;36m0.5630\u001b[0m  \u001b[1;36m0.6504\u001b[0m  \u001b[1;36m0.7502\u001b[0m  \u001b[1;36m0.8375\u001b[0m  \u001b[1;36m0.9373\u001b[0m\n"
      ]
     },
     "metadata": {},
     "output_type": "display_data"
    }
   ],
   "source": [
    "model = build_model()\n",
    "model.graph.initializers[\"q_weight\"].const_value.display()"
   ]
  },
  {
   "cell_type": "code",
   "execution_count": 24,
   "id": "5c433bec",
   "metadata": {},
   "outputs": [
    {
     "data": {
      "text/html": [
       "<pre style=\"white-space:pre;overflow-x:auto;line-height:normal;font-family:Menlo,'DejaVu Sans Mono',consolas,'Courier New',monospace\"></pre>\n"
      ],
      "text/plain": []
     },
     "metadata": {},
     "output_type": "display_data"
    },
    {
     "data": {
      "text/html": [
       "<pre style=\"white-space:pre;overflow-x:auto;line-height:normal;font-family:Menlo,'DejaVu Sans Mono',consolas,'Courier New',monospace\">Tensor<span style=\"font-weight: bold\">&lt;</span><span style=\"color: #ff00ff; text-decoration-color: #ff00ff; font-weight: bold\">FLOAT</span><span style=\"color: #000000; text-decoration-color: #000000\">,</span><span style=\"color: #000000; text-decoration-color: #000000; font-weight: bold\">[</span><span style=\"color: #008080; text-decoration-color: #008080; font-weight: bold\">16</span><span style=\"color: #000000; text-decoration-color: #000000\">,</span><span style=\"color: #008080; text-decoration-color: #008080; font-weight: bold\">16</span><span style=\"color: #000000; text-decoration-color: #000000; font-weight: bold\">]</span><span style=\"font-weight: bold\">&gt;(</span><span style=\"color: #800080; text-decoration-color: #800080; font-weight: bold\">array</span><span style=\"font-weight: bold\">([[</span><span style=\"color: #008080; text-decoration-color: #008080; font-weight: bold\">0</span>., <span style=\"color: #008080; text-decoration-color: #008080; font-weight: bold\">0</span>., <span style=\"color: #008080; text-decoration-color: #008080; font-weight: bold\">0</span>., <span style=\"color: #008080; text-decoration-color: #008080; font-weight: bold\">0</span>., <span style=\"color: #008080; text-decoration-color: #008080; font-weight: bold\">0</span>., <span style=\"color: #008080; text-decoration-color: #008080; font-weight: bold\">0</span>., <span style=\"color: #008080; text-decoration-color: #008080; font-weight: bold\">0</span>., <span style=\"color: #008080; text-decoration-color: #008080; font-weight: bold\">0</span>., <span style=\"color: #008080; text-decoration-color: #008080; font-weight: bold\">0</span>., <span style=\"color: #008080; text-decoration-color: #008080; font-weight: bold\">0</span>., <span style=\"color: #008080; text-decoration-color: #008080; font-weight: bold\">0</span>., <span style=\"color: #008080; text-decoration-color: #008080; font-weight: bold\">0</span>., <span style=\"color: #008080; text-decoration-color: #008080; font-weight: bold\">0</span>., <span style=\"color: #008080; text-decoration-color: #008080; font-weight: bold\">0</span>., <span style=\"color: #008080; text-decoration-color: #008080; font-weight: bold\">0</span>., <span style=\"color: #008080; text-decoration-color: #008080; font-weight: bold\">0</span>.<span style=\"font-weight: bold\">]</span>, <span style=\"font-weight: bold\">[</span><span style=\"color: #008080; text-decoration-color: #008080; font-weight: bold\">0</span>., <span style=\"color: #008080; text-decoration-color: #008080; font-weight: bold\">0</span>., <span style=\"color: #008080; text-decoration-color: #008080; font-weight: bold\">0</span>., <span style=\"color: #008080; text-decoration-color: #008080; font-weight: bold\">0</span>., <span style=\"color: #008080; text-decoration-color: #008080; font-weight: bold\">0</span>.,\n",
       "<span style=\"color: #008080; text-decoration-color: #008080; font-weight: bold\">0</span>., <span style=\"color: #008080; text-decoration-color: #008080; font-weight: bold\">0</span>., <span style=\"color: #008080; text-decoration-color: #008080; font-weight: bold\">0</span>., <span style=\"color: #008080; text-decoration-color: #008080; font-weight: bold\">0</span>., <span style=\"color: #008080; text-decoration-color: #008080; font-weight: bold\">0</span>., <span style=\"color: #008080; text-decoration-color: #008080; font-weight: bold\">0</span>., <span style=\"color: #008080; text-decoration-color: #008080; font-weight: bold\">0</span>., <span style=\"color: #008080; text-decoration-color: #008080; font-weight: bold\">0</span>., <span style=\"color: #008080; text-decoration-color: #008080; font-weight: bold\">0</span>., <span style=\"color: #008080; text-decoration-color: #008080; font-weight: bold\">0</span>., <span style=\"color: #008080; text-decoration-color: #008080; font-weight: bold\">0</span>.<span style=\"font-weight: bold\">]</span>, <span style=\"font-weight: bold\">[</span><span style=\"color: #008080; text-decoration-color: #008080; font-weight: bold\">0</span>., <span style=\"color: #008080; text-decoration-color: #008080; font-weight: bold\">0</span>., <span style=\"color: #008080; text-decoration-color: #008080; font-weight: bold\">0</span>., <span style=\"color: #008080; text-decoration-color: #008080; font-weight: bold\">0</span>., <span style=\"color: #008080; text-decoration-color: #008080; font-weight: bold\">0</span>., <span style=\"color: #008080; text-decoration-color: #008080; font-weight: bold\">0</span>., <span style=\"color: #008080; text-decoration-color: #008080; font-weight: bold\">0</span>., <span style=\"color: #008080; text-decoration-color: #008080; font-weight: bold\">0</span>., <span style=\"color: #008080; text-decoration-color: #008080; font-weight: bold\">0</span>., <span style=\"color: #008080; text-decoration-color: #008080; font-weight: bold\">0</span>., <span style=\"color: #008080; text-decoration-color: #008080; font-weight: bold\">0</span>., <span style=\"color: #008080; text-decoration-color: #008080; font-weight: bold\">0</span>., <span style=\"color: #008080; text-decoration-color: #008080; font-weight: bold\">0</span>., <span style=\"color: #008080; text-decoration-color: #008080; font-weight: bold\">0</span>., <span style=\"color: #008080; text-decoration-color: #008080; font-weight: bold\">0</span>., <span style=\"color: #008080; text-decoration-color: #008080; font-weight: bold\">0</span>.<span style=\"font-weight: bold\">]</span>, <span style=\"font-weight: bold\">[</span><span style=\"color: #008080; text-decoration-color: #008080; font-weight: bold\">0</span>.,\n",
       "<span style=\"color: #008080; text-decoration-color: #008080; font-weight: bold\">0</span>., <span style=\"color: #008080; text-decoration-color: #008080; font-weight: bold\">0</span>., <span style=\"color: #008080; text-decoration-color: #008080; font-weight: bold\">0</span>., <span style=\"color: #008080; text-decoration-color: #008080; font-weight: bold\">0</span>., <span style=\"color: #008080; text-decoration-color: #008080; font-weight: bold\">0</span>., <span style=\"color: #008080; text-decoration-color: #008080; font-weight: bold\">0</span>., <span style=\"color: #008080; text-decoration-color: #008080; font-weight: bold\">0</span>., <span style=\"color: #008080; text-decoration-color: #008080; font-weight: bold\">0</span>., <span style=\"color: #008080; text-decoration-color: #008080; font-weight: bold\">0</span>., <span style=\"color: #008080; text-decoration-color: #008080; font-weight: bold\">0</span>., <span style=\"color: #008080; text-decoration-color: #008080; font-weight: bold\">0</span>., <span style=\"color: #008080; text-decoration-color: #008080; font-weight: bold\">0</span>., <span style=\"color: #008080; text-decoration-color: #008080; font-weight: bold\">0</span>., <span style=\"color: #008080; text-decoration-color: #008080; font-weight: bold\">0</span>., <span style=\"color: #008080; text-decoration-color: #008080; font-weight: bold\">0</span>.<span style=\"font-weight: bold\">]</span>, <span style=\"font-weight: bold\">[</span><span style=\"color: #008080; text-decoration-color: #008080; font-weight: bold\">0</span>., <span style=\"color: #008080; text-decoration-color: #008080; font-weight: bold\">0</span>., <span style=\"color: #008080; text-decoration-color: #008080; font-weight: bold\">0</span>., <span style=\"color: #008080; text-decoration-color: #008080; font-weight: bold\">0</span>., <span style=\"color: #008080; text-decoration-color: #008080; font-weight: bold\">0</span>., <span style=\"color: #008080; text-decoration-color: #008080; font-weight: bold\">0</span>., <span style=\"color: #008080; text-decoration-color: #008080; font-weight: bold\">0</span>., <span style=\"color: #008080; text-decoration-color: #008080; font-weight: bold\">0</span>., <span style=\"color: #008080; text-decoration-color: #008080; font-weight: bold\">0</span>., <span style=\"color: #008080; text-decoration-color: #008080; font-weight: bold\">0</span>., <span style=\"color: #008080; text-decoration-color: #008080; font-weight: bold\">0</span>., <span style=\"color: #008080; text-decoration-color: #008080; font-weight: bold\">0</span>., <span style=\"color: #008080; text-decoration-color: #008080; font-weight: bold\">0</span>., \n",
       "<span style=\"color: #008080; text-decoration-color: #008080; font-weight: bold\">0</span>., <span style=\"color: #008080; text-decoration-color: #008080; font-weight: bold\">0</span>., <span style=\"color: #008080; text-decoration-color: #008080; font-weight: bold\">0</span>.<span style=\"font-weight: bold\">]</span>, <span style=\"font-weight: bold\">[</span><span style=\"color: #008080; text-decoration-color: #008080; font-weight: bold\">0</span>., <span style=\"color: #008080; text-decoration-color: #008080; font-weight: bold\">0</span>., <span style=\"color: #008080; text-decoration-color: #008080; font-weight: bold\">0</span>., <span style=\"color: #008080; text-decoration-color: #008080; font-weight: bold\">0</span>., <span style=\"color: #008080; text-decoration-color: #008080; font-weight: bold\">0</span>., <span style=\"color: #008080; text-decoration-color: #008080; font-weight: bold\">0</span>., <span style=\"color: #008080; text-decoration-color: #008080; font-weight: bold\">0</span>., <span style=\"color: #008080; text-decoration-color: #008080; font-weight: bold\">0</span>., <span style=\"color: #008080; text-decoration-color: #008080; font-weight: bold\">0</span>., <span style=\"color: #008080; text-decoration-color: #008080; font-weight: bold\">0</span>., <span style=\"color: #008080; text-decoration-color: #008080; font-weight: bold\">0</span>., <span style=\"color: #008080; text-decoration-color: #008080; font-weight: bold\">0</span>., <span style=\"color: #008080; text-decoration-color: #008080; font-weight: bold\">0</span>., <span style=\"color: #008080; text-decoration-color: #008080; font-weight: bold\">0</span>., <span style=\"color: #008080; text-decoration-color: #008080; font-weight: bold\">0</span>., <span style=\"color: #008080; text-decoration-color: #008080; font-weight: bold\">0</span>.<span style=\"font-weight: bold\">]</span>, <span style=\"font-weight: bold\">[</span><span style=\"color: #008080; text-decoration-color: #008080; font-weight: bold\">0</span>., <span style=\"color: #008080; text-decoration-color: #008080; font-weight: bold\">0</span>., <span style=\"color: #008080; text-decoration-color: #008080; font-weight: bold\">0</span>., <span style=\"color: #008080; text-decoration-color: #008080; font-weight: bold\">0</span>., <span style=\"color: #008080; text-decoration-color: #008080; font-weight: bold\">0</span>., <span style=\"color: #008080; text-decoration-color: #008080; font-weight: bold\">0</span>., <span style=\"color: #008080; text-decoration-color: #008080; font-weight: bold\">0</span>., <span style=\"color: #008080; text-decoration-color: #008080; font-weight: bold\">0</span>., <span style=\"color: #008080; text-decoration-color: #008080; font-weight: bold\">0</span>.,\n",
       "<span style=\"color: #008080; text-decoration-color: #008080; font-weight: bold\">0</span>., <span style=\"color: #008080; text-decoration-color: #008080; font-weight: bold\">0</span>., <span style=\"color: #008080; text-decoration-color: #008080; font-weight: bold\">0</span>., <span style=\"color: #008080; text-decoration-color: #008080; font-weight: bold\">0</span>., <span style=\"color: #008080; text-decoration-color: #008080; font-weight: bold\">0</span>., <span style=\"color: #008080; text-decoration-color: #008080; font-weight: bold\">0</span>., <span style=\"color: #008080; text-decoration-color: #008080; font-weight: bold\">0</span>.<span style=\"font-weight: bold\">]</span>, <span style=\"font-weight: bold\">[</span><span style=\"color: #008080; text-decoration-color: #008080; font-weight: bold\">0</span>., <span style=\"color: #008080; text-decoration-color: #008080; font-weight: bold\">0</span>., <span style=\"color: #008080; text-decoration-color: #008080; font-weight: bold\">0</span>., <span style=\"color: #008080; text-decoration-color: #008080; font-weight: bold\">0</span>., <span style=\"color: #008080; text-decoration-color: #008080; font-weight: bold\">0</span>., <span style=\"color: #008080; text-decoration-color: #008080; font-weight: bold\">0</span>., <span style=\"color: #008080; text-decoration-color: #008080; font-weight: bold\">0</span>., <span style=\"color: #008080; text-decoration-color: #008080; font-weight: bold\">0</span>., <span style=\"color: #008080; text-decoration-color: #008080; font-weight: bold\">0</span>., <span style=\"color: #008080; text-decoration-color: #008080; font-weight: bold\">0</span>., <span style=\"color: #008080; text-decoration-color: #008080; font-weight: bold\">0</span>., <span style=\"color: #008080; text-decoration-color: #008080; font-weight: bold\">0</span>., <span style=\"color: #008080; text-decoration-color: #008080; font-weight: bold\">0</span>., <span style=\"color: #008080; text-decoration-color: #008080; font-weight: bold\">0</span>., <span style=\"color: #008080; text-decoration-color: #008080; font-weight: bold\">0</span>., <span style=\"color: #008080; text-decoration-color: #008080; font-weight: bold\">0</span>.<span style=\"font-weight: bold\">]</span>, <span style=\"font-weight: bold\">[</span><span style=\"color: #008080; text-decoration-color: #008080; font-weight: bold\">0</span>., <span style=\"color: #008080; text-decoration-color: #008080; font-weight: bold\">0</span>., <span style=\"color: #008080; text-decoration-color: #008080; font-weight: bold\">0</span>., <span style=\"color: #008080; text-decoration-color: #008080; font-weight: bold\">0</span>., <span style=\"color: #008080; text-decoration-color: #008080; font-weight: bold\">0</span>.,\n",
       "<span style=\"color: #008080; text-decoration-color: #008080; font-weight: bold\">0</span>., <span style=\"color: #008080; text-decoration-color: #008080; font-weight: bold\">0</span>., <span style=\"color: #008080; text-decoration-color: #008080; font-weight: bold\">0</span>., <span style=\"color: #008080; text-decoration-color: #008080; font-weight: bold\">0</span>., <span style=\"color: #008080; text-decoration-color: #008080; font-weight: bold\">0</span>., <span style=\"color: #008080; text-decoration-color: #008080; font-weight: bold\">0</span>., <span style=\"color: #008080; text-decoration-color: #008080; font-weight: bold\">0</span>., <span style=\"color: #008080; text-decoration-color: #008080; font-weight: bold\">0</span>., <span style=\"color: #008080; text-decoration-color: #008080; font-weight: bold\">0</span>., <span style=\"color: #008080; text-decoration-color: #008080; font-weight: bold\">0</span>., <span style=\"color: #008080; text-decoration-color: #008080; font-weight: bold\">0</span>.<span style=\"font-weight: bold\">]</span>, <span style=\"font-weight: bold\">[</span><span style=\"color: #008080; text-decoration-color: #008080; font-weight: bold\">0</span>., <span style=\"color: #008080; text-decoration-color: #008080; font-weight: bold\">0</span>., <span style=\"color: #008080; text-decoration-color: #008080; font-weight: bold\">0</span>., <span style=\"color: #008080; text-decoration-color: #008080; font-weight: bold\">0</span>., <span style=\"color: #008080; text-decoration-color: #008080; font-weight: bold\">0</span>., <span style=\"color: #008080; text-decoration-color: #008080; font-weight: bold\">0</span>., <span style=\"color: #008080; text-decoration-color: #008080; font-weight: bold\">0</span>., <span style=\"color: #008080; text-decoration-color: #008080; font-weight: bold\">0</span>., <span style=\"color: #008080; text-decoration-color: #008080; font-weight: bold\">0</span>., <span style=\"color: #008080; text-decoration-color: #008080; font-weight: bold\">0</span>., <span style=\"color: #008080; text-decoration-color: #008080; font-weight: bold\">0</span>., <span style=\"color: #008080; text-decoration-color: #008080; font-weight: bold\">0</span>., <span style=\"color: #008080; text-decoration-color: #008080; font-weight: bold\">0</span>., <span style=\"color: #008080; text-decoration-color: #008080; font-weight: bold\">0</span>., <span style=\"color: #008080; text-decoration-color: #008080; font-weight: bold\">0</span>., <span style=\"color: #008080; text-decoration-color: #008080; font-weight: bold\">0</span>.<span style=\"font-weight: bold\">]</span>, <span style=\"font-weight: bold\">[</span><span style=\"color: #008080; text-decoration-color: #008080; font-weight: bold\">0</span>.,\n",
       "<span style=\"color: #008080; text-decoration-color: #008080; font-weight: bold\">0</span>., <span style=\"color: #008080; text-decoration-color: #008080; font-weight: bold\">0</span>., <span style=\"color: #008080; text-decoration-color: #008080; font-weight: bold\">0</span>., <span style=\"color: #008080; text-decoration-color: #008080; font-weight: bold\">0</span>., <span style=\"color: #008080; text-decoration-color: #008080; font-weight: bold\">0</span>., <span style=\"color: #008080; text-decoration-color: #008080; font-weight: bold\">0</span>., <span style=\"color: #008080; text-decoration-color: #008080; font-weight: bold\">0</span>., <span style=\"color: #008080; text-decoration-color: #008080; font-weight: bold\">0</span>., <span style=\"color: #008080; text-decoration-color: #008080; font-weight: bold\">0</span>., <span style=\"color: #008080; text-decoration-color: #008080; font-weight: bold\">0</span>., <span style=\"color: #008080; text-decoration-color: #008080; font-weight: bold\">0</span>., <span style=\"color: #008080; text-decoration-color: #008080; font-weight: bold\">0</span>., <span style=\"color: #008080; text-decoration-color: #008080; font-weight: bold\">0</span>., <span style=\"color: #008080; text-decoration-color: #008080; font-weight: bold\">0</span>., <span style=\"color: #008080; text-decoration-color: #008080; font-weight: bold\">0</span>.<span style=\"font-weight: bold\">]</span>, <span style=\"font-weight: bold\">[</span><span style=\"color: #008080; text-decoration-color: #008080; font-weight: bold\">0</span>., <span style=\"color: #008080; text-decoration-color: #008080; font-weight: bold\">0</span>., <span style=\"color: #008080; text-decoration-color: #008080; font-weight: bold\">0</span>., <span style=\"color: #008080; text-decoration-color: #008080; font-weight: bold\">0</span>., <span style=\"color: #008080; text-decoration-color: #008080; font-weight: bold\">0</span>., <span style=\"color: #008080; text-decoration-color: #008080; font-weight: bold\">0</span>., <span style=\"color: #008080; text-decoration-color: #008080; font-weight: bold\">0</span>., <span style=\"color: #008080; text-decoration-color: #008080; font-weight: bold\">0</span>., <span style=\"color: #008080; text-decoration-color: #008080; font-weight: bold\">0</span>., <span style=\"color: #008080; text-decoration-color: #008080; font-weight: bold\">0</span>., <span style=\"color: #008080; text-decoration-color: #008080; font-weight: bold\">0</span>., <span style=\"color: #008080; text-decoration-color: #008080; font-weight: bold\">0</span>., <span style=\"color: #008080; text-decoration-color: #008080; font-weight: bold\">0</span>., \n",
       "<span style=\"color: #008080; text-decoration-color: #008080; font-weight: bold\">0</span>., <span style=\"color: #008080; text-decoration-color: #008080; font-weight: bold\">0</span>., <span style=\"color: #008080; text-decoration-color: #008080; font-weight: bold\">0</span>.<span style=\"font-weight: bold\">]</span>, <span style=\"font-weight: bold\">[</span><span style=\"color: #008080; text-decoration-color: #008080; font-weight: bold\">0</span>., <span style=\"color: #008080; text-decoration-color: #008080; font-weight: bold\">0</span>., <span style=\"color: #008080; text-decoration-color: #008080; font-weight: bold\">0</span>., <span style=\"color: #008080; text-decoration-color: #008080; font-weight: bold\">0</span>., <span style=\"color: #008080; text-decoration-color: #008080; font-weight: bold\">0</span>., <span style=\"color: #008080; text-decoration-color: #008080; font-weight: bold\">0</span>., <span style=\"color: #008080; text-decoration-color: #008080; font-weight: bold\">0</span>., <span style=\"color: #008080; text-decoration-color: #008080; font-weight: bold\">0</span>., <span style=\"color: #008080; text-decoration-color: #008080; font-weight: bold\">0</span>., <span style=\"color: #008080; text-decoration-color: #008080; font-weight: bold\">0</span>., <span style=\"color: #008080; text-decoration-color: #008080; font-weight: bold\">0</span>., <span style=\"color: #008080; text-decoration-color: #008080; font-weight: bold\">0</span>., <span style=\"color: #008080; text-decoration-color: #008080; font-weight: bold\">0</span>., <span style=\"color: #008080; text-decoration-color: #008080; font-weight: bold\">0</span>., <span style=\"color: #008080; text-decoration-color: #008080; font-weight: bold\">0</span>., <span style=\"color: #008080; text-decoration-color: #008080; font-weight: bold\">0</span>.<span style=\"font-weight: bold\">]</span>, <span style=\"font-weight: bold\">[</span><span style=\"color: #008080; text-decoration-color: #008080; font-weight: bold\">0</span>., <span style=\"color: #008080; text-decoration-color: #008080; font-weight: bold\">0</span>., <span style=\"color: #008080; text-decoration-color: #008080; font-weight: bold\">0</span>., <span style=\"color: #008080; text-decoration-color: #008080; font-weight: bold\">0</span>., <span style=\"color: #008080; text-decoration-color: #008080; font-weight: bold\">0</span>., <span style=\"color: #008080; text-decoration-color: #008080; font-weight: bold\">0</span>., <span style=\"color: #008080; text-decoration-color: #008080; font-weight: bold\">0</span>., <span style=\"color: #008080; text-decoration-color: #008080; font-weight: bold\">0</span>., <span style=\"color: #008080; text-decoration-color: #008080; font-weight: bold\">0</span>.,\n",
       "<span style=\"color: #008080; text-decoration-color: #008080; font-weight: bold\">0</span>., <span style=\"color: #008080; text-decoration-color: #008080; font-weight: bold\">0</span>., <span style=\"color: #008080; text-decoration-color: #008080; font-weight: bold\">0</span>., <span style=\"color: #008080; text-decoration-color: #008080; font-weight: bold\">0</span>., <span style=\"color: #008080; text-decoration-color: #008080; font-weight: bold\">0</span>., <span style=\"color: #008080; text-decoration-color: #008080; font-weight: bold\">0</span>., <span style=\"color: #008080; text-decoration-color: #008080; font-weight: bold\">0</span>.<span style=\"font-weight: bold\">]</span>, <span style=\"font-weight: bold\">[</span><span style=\"color: #008080; text-decoration-color: #008080; font-weight: bold\">0</span>., <span style=\"color: #008080; text-decoration-color: #008080; font-weight: bold\">0</span>., <span style=\"color: #008080; text-decoration-color: #008080; font-weight: bold\">0</span>., <span style=\"color: #008080; text-decoration-color: #008080; font-weight: bold\">0</span>., <span style=\"color: #008080; text-decoration-color: #008080; font-weight: bold\">0</span>., <span style=\"color: #008080; text-decoration-color: #008080; font-weight: bold\">0</span>., <span style=\"color: #008080; text-decoration-color: #008080; font-weight: bold\">0</span>., <span style=\"color: #008080; text-decoration-color: #008080; font-weight: bold\">0</span>., <span style=\"color: #008080; text-decoration-color: #008080; font-weight: bold\">0</span>., <span style=\"color: #008080; text-decoration-color: #008080; font-weight: bold\">0</span>., <span style=\"color: #008080; text-decoration-color: #008080; font-weight: bold\">0</span>., <span style=\"color: #008080; text-decoration-color: #008080; font-weight: bold\">0</span>., <span style=\"color: #008080; text-decoration-color: #008080; font-weight: bold\">0</span>., <span style=\"color: #008080; text-decoration-color: #008080; font-weight: bold\">0</span>., <span style=\"color: #008080; text-decoration-color: #008080; font-weight: bold\">0</span>., <span style=\"color: #008080; text-decoration-color: #008080; font-weight: bold\">0</span>.<span style=\"font-weight: bold\">]</span>, <span style=\"font-weight: bold\">[</span><span style=\"color: #008080; text-decoration-color: #008080; font-weight: bold\">0</span>., <span style=\"color: #008080; text-decoration-color: #008080; font-weight: bold\">0</span>., <span style=\"color: #008080; text-decoration-color: #008080; font-weight: bold\">0</span>., <span style=\"color: #008080; text-decoration-color: #008080; font-weight: bold\">0</span>., <span style=\"color: #008080; text-decoration-color: #008080; font-weight: bold\">0</span>.,\n",
       "<span style=\"color: #008080; text-decoration-color: #008080; font-weight: bold\">0</span>., <span style=\"color: #008080; text-decoration-color: #008080; font-weight: bold\">0</span>., <span style=\"color: #008080; text-decoration-color: #008080; font-weight: bold\">0</span>., <span style=\"color: #008080; text-decoration-color: #008080; font-weight: bold\">0</span>., <span style=\"color: #008080; text-decoration-color: #008080; font-weight: bold\">0</span>., <span style=\"color: #008080; text-decoration-color: #008080; font-weight: bold\">0</span>., <span style=\"color: #008080; text-decoration-color: #008080; font-weight: bold\">0</span>., <span style=\"color: #008080; text-decoration-color: #008080; font-weight: bold\">0</span>., <span style=\"color: #008080; text-decoration-color: #008080; font-weight: bold\">0</span>., <span style=\"color: #008080; text-decoration-color: #008080; font-weight: bold\">0</span>., <span style=\"color: #008080; text-decoration-color: #008080; font-weight: bold\">0</span>.<span style=\"font-weight: bold\">]]</span>, <span style=\"color: #808000; text-decoration-color: #808000\">dtype</span>=<span style=\"color: #800080; text-decoration-color: #800080\">float32</span><span style=\"font-weight: bold\">)</span>, <span style=\"color: #808000; text-decoration-color: #808000\">name</span>=<span style=\"color: #008000; text-decoration-color: #008000\">'q_weight'</span><span style=\"font-weight: bold\">)</span>\n",
       "\n",
       "Min: <span style=\"color: #008080; text-decoration-color: #008080; font-weight: bold\">0.0</span>, Max: <span style=\"color: #008080; text-decoration-color: #008080; font-weight: bold\">0.0</span>, NaN count: <span style=\"color: #008080; text-decoration-color: #008080; font-weight: bold\">0</span>, Inf count: <span style=\"color: #008080; text-decoration-color: #008080; font-weight: bold\">0</span>\n",
       "Sparsity <span style=\"font-weight: bold\">(</span>abs&lt;<span style=\"color: #008080; text-decoration-color: #008080; font-weight: bold\">1e-06</span><span style=\"font-weight: bold\">)</span>: <span style=\"color: #008080; text-decoration-color: #008080; font-weight: bold\">1.00</span>\n",
       "Histogram:\n",
       "     <span style=\"color: #008080; text-decoration-color: #008080; font-weight: bold\">256</span> ┼                                       ╭╮\n",
       "     <span style=\"color: #008080; text-decoration-color: #008080; font-weight: bold\">224</span> ┤                                       ││\n",
       "     <span style=\"color: #008080; text-decoration-color: #008080; font-weight: bold\">192</span> ┤                                       ││\n",
       "     <span style=\"color: #008080; text-decoration-color: #008080; font-weight: bold\">160</span> ┤                                       ││\n",
       "     <span style=\"color: #008080; text-decoration-color: #008080; font-weight: bold\">128</span> ┤                                       ││\n",
       "      <span style=\"color: #008080; text-decoration-color: #008080; font-weight: bold\">96</span> ┤                                       ││\n",
       "      <span style=\"color: #008080; text-decoration-color: #008080; font-weight: bold\">64</span> ┤                                       ││\n",
       "      <span style=\"color: #008080; text-decoration-color: #008080; font-weight: bold\">32</span> ┤                                       ││\n",
       "       <span style=\"color: #008080; text-decoration-color: #008080; font-weight: bold\">0</span> ┼───────────────────────────────────────╯╰──────────────────────────────────────\n",
       "    <span style=\"color: #008080; text-decoration-color: #008080; font-weight: bold\">-0.5000</span>  <span style=\"color: #008080; text-decoration-color: #008080; font-weight: bold\">-0.4000</span>  <span style=\"color: #008080; text-decoration-color: #008080; font-weight: bold\">-0.3000</span>  <span style=\"color: #008080; text-decoration-color: #008080; font-weight: bold\">-0.1875</span>  <span style=\"color: #008080; text-decoration-color: #008080; font-weight: bold\">-0.0875</span>  <span style=\"color: #008080; text-decoration-color: #008080; font-weight: bold\">0.0250</span>  <span style=\"color: #008080; text-decoration-color: #008080; font-weight: bold\">0.1125</span>  <span style=\"color: #008080; text-decoration-color: #008080; font-weight: bold\">0.2125</span>  <span style=\"color: #008080; text-decoration-color: #008080; font-weight: bold\">0.3000</span>  <span style=\"color: #008080; text-decoration-color: #008080; font-weight: bold\">0.4000</span>  <span style=\"color: #008080; text-decoration-color: #008080; font-weight: bold\">0.5000</span>\n",
       "</pre>\n"
      ],
      "text/plain": [
       "Tensor\u001b[1m<\u001b[0m\u001b[1;95mFLOAT\u001b[0m\u001b[39m,\u001b[0m\u001b[1;39m[\u001b[0m\u001b[1;36m16\u001b[0m\u001b[39m,\u001b[0m\u001b[1;36m16\u001b[0m\u001b[1;39m]\u001b[0m\u001b[1m>\u001b[0m\u001b[1m(\u001b[0m\u001b[1;35marray\u001b[0m\u001b[1m(\u001b[0m\u001b[1m[\u001b[0m\u001b[1m[\u001b[0m\u001b[1;36m0\u001b[0m., \u001b[1;36m0\u001b[0m., \u001b[1;36m0\u001b[0m., \u001b[1;36m0\u001b[0m., \u001b[1;36m0\u001b[0m., \u001b[1;36m0\u001b[0m., \u001b[1;36m0\u001b[0m., \u001b[1;36m0\u001b[0m., \u001b[1;36m0\u001b[0m., \u001b[1;36m0\u001b[0m., \u001b[1;36m0\u001b[0m., \u001b[1;36m0\u001b[0m., \u001b[1;36m0\u001b[0m., \u001b[1;36m0\u001b[0m., \u001b[1;36m0\u001b[0m., \u001b[1;36m0\u001b[0m.\u001b[1m]\u001b[0m, \u001b[1m[\u001b[0m\u001b[1;36m0\u001b[0m., \u001b[1;36m0\u001b[0m., \u001b[1;36m0\u001b[0m., \u001b[1;36m0\u001b[0m., \u001b[1;36m0\u001b[0m.,\n",
       "\u001b[1;36m0\u001b[0m., \u001b[1;36m0\u001b[0m., \u001b[1;36m0\u001b[0m., \u001b[1;36m0\u001b[0m., \u001b[1;36m0\u001b[0m., \u001b[1;36m0\u001b[0m., \u001b[1;36m0\u001b[0m., \u001b[1;36m0\u001b[0m., \u001b[1;36m0\u001b[0m., \u001b[1;36m0\u001b[0m., \u001b[1;36m0\u001b[0m.\u001b[1m]\u001b[0m, \u001b[1m[\u001b[0m\u001b[1;36m0\u001b[0m., \u001b[1;36m0\u001b[0m., \u001b[1;36m0\u001b[0m., \u001b[1;36m0\u001b[0m., \u001b[1;36m0\u001b[0m., \u001b[1;36m0\u001b[0m., \u001b[1;36m0\u001b[0m., \u001b[1;36m0\u001b[0m., \u001b[1;36m0\u001b[0m., \u001b[1;36m0\u001b[0m., \u001b[1;36m0\u001b[0m., \u001b[1;36m0\u001b[0m., \u001b[1;36m0\u001b[0m., \u001b[1;36m0\u001b[0m., \u001b[1;36m0\u001b[0m., \u001b[1;36m0\u001b[0m.\u001b[1m]\u001b[0m, \u001b[1m[\u001b[0m\u001b[1;36m0\u001b[0m.,\n",
       "\u001b[1;36m0\u001b[0m., \u001b[1;36m0\u001b[0m., \u001b[1;36m0\u001b[0m., \u001b[1;36m0\u001b[0m., \u001b[1;36m0\u001b[0m., \u001b[1;36m0\u001b[0m., \u001b[1;36m0\u001b[0m., \u001b[1;36m0\u001b[0m., \u001b[1;36m0\u001b[0m., \u001b[1;36m0\u001b[0m., \u001b[1;36m0\u001b[0m., \u001b[1;36m0\u001b[0m., \u001b[1;36m0\u001b[0m., \u001b[1;36m0\u001b[0m., \u001b[1;36m0\u001b[0m.\u001b[1m]\u001b[0m, \u001b[1m[\u001b[0m\u001b[1;36m0\u001b[0m., \u001b[1;36m0\u001b[0m., \u001b[1;36m0\u001b[0m., \u001b[1;36m0\u001b[0m., \u001b[1;36m0\u001b[0m., \u001b[1;36m0\u001b[0m., \u001b[1;36m0\u001b[0m., \u001b[1;36m0\u001b[0m., \u001b[1;36m0\u001b[0m., \u001b[1;36m0\u001b[0m., \u001b[1;36m0\u001b[0m., \u001b[1;36m0\u001b[0m., \u001b[1;36m0\u001b[0m., \n",
       "\u001b[1;36m0\u001b[0m., \u001b[1;36m0\u001b[0m., \u001b[1;36m0\u001b[0m.\u001b[1m]\u001b[0m, \u001b[1m[\u001b[0m\u001b[1;36m0\u001b[0m., \u001b[1;36m0\u001b[0m., \u001b[1;36m0\u001b[0m., \u001b[1;36m0\u001b[0m., \u001b[1;36m0\u001b[0m., \u001b[1;36m0\u001b[0m., \u001b[1;36m0\u001b[0m., \u001b[1;36m0\u001b[0m., \u001b[1;36m0\u001b[0m., \u001b[1;36m0\u001b[0m., \u001b[1;36m0\u001b[0m., \u001b[1;36m0\u001b[0m., \u001b[1;36m0\u001b[0m., \u001b[1;36m0\u001b[0m., \u001b[1;36m0\u001b[0m., \u001b[1;36m0\u001b[0m.\u001b[1m]\u001b[0m, \u001b[1m[\u001b[0m\u001b[1;36m0\u001b[0m., \u001b[1;36m0\u001b[0m., \u001b[1;36m0\u001b[0m., \u001b[1;36m0\u001b[0m., \u001b[1;36m0\u001b[0m., \u001b[1;36m0\u001b[0m., \u001b[1;36m0\u001b[0m., \u001b[1;36m0\u001b[0m., \u001b[1;36m0\u001b[0m.,\n",
       "\u001b[1;36m0\u001b[0m., \u001b[1;36m0\u001b[0m., \u001b[1;36m0\u001b[0m., \u001b[1;36m0\u001b[0m., \u001b[1;36m0\u001b[0m., \u001b[1;36m0\u001b[0m., \u001b[1;36m0\u001b[0m.\u001b[1m]\u001b[0m, \u001b[1m[\u001b[0m\u001b[1;36m0\u001b[0m., \u001b[1;36m0\u001b[0m., \u001b[1;36m0\u001b[0m., \u001b[1;36m0\u001b[0m., \u001b[1;36m0\u001b[0m., \u001b[1;36m0\u001b[0m., \u001b[1;36m0\u001b[0m., \u001b[1;36m0\u001b[0m., \u001b[1;36m0\u001b[0m., \u001b[1;36m0\u001b[0m., \u001b[1;36m0\u001b[0m., \u001b[1;36m0\u001b[0m., \u001b[1;36m0\u001b[0m., \u001b[1;36m0\u001b[0m., \u001b[1;36m0\u001b[0m., \u001b[1;36m0\u001b[0m.\u001b[1m]\u001b[0m, \u001b[1m[\u001b[0m\u001b[1;36m0\u001b[0m., \u001b[1;36m0\u001b[0m., \u001b[1;36m0\u001b[0m., \u001b[1;36m0\u001b[0m., \u001b[1;36m0\u001b[0m.,\n",
       "\u001b[1;36m0\u001b[0m., \u001b[1;36m0\u001b[0m., \u001b[1;36m0\u001b[0m., \u001b[1;36m0\u001b[0m., \u001b[1;36m0\u001b[0m., \u001b[1;36m0\u001b[0m., \u001b[1;36m0\u001b[0m., \u001b[1;36m0\u001b[0m., \u001b[1;36m0\u001b[0m., \u001b[1;36m0\u001b[0m., \u001b[1;36m0\u001b[0m.\u001b[1m]\u001b[0m, \u001b[1m[\u001b[0m\u001b[1;36m0\u001b[0m., \u001b[1;36m0\u001b[0m., \u001b[1;36m0\u001b[0m., \u001b[1;36m0\u001b[0m., \u001b[1;36m0\u001b[0m., \u001b[1;36m0\u001b[0m., \u001b[1;36m0\u001b[0m., \u001b[1;36m0\u001b[0m., \u001b[1;36m0\u001b[0m., \u001b[1;36m0\u001b[0m., \u001b[1;36m0\u001b[0m., \u001b[1;36m0\u001b[0m., \u001b[1;36m0\u001b[0m., \u001b[1;36m0\u001b[0m., \u001b[1;36m0\u001b[0m., \u001b[1;36m0\u001b[0m.\u001b[1m]\u001b[0m, \u001b[1m[\u001b[0m\u001b[1;36m0\u001b[0m.,\n",
       "\u001b[1;36m0\u001b[0m., \u001b[1;36m0\u001b[0m., \u001b[1;36m0\u001b[0m., \u001b[1;36m0\u001b[0m., \u001b[1;36m0\u001b[0m., \u001b[1;36m0\u001b[0m., \u001b[1;36m0\u001b[0m., \u001b[1;36m0\u001b[0m., \u001b[1;36m0\u001b[0m., \u001b[1;36m0\u001b[0m., \u001b[1;36m0\u001b[0m., \u001b[1;36m0\u001b[0m., \u001b[1;36m0\u001b[0m., \u001b[1;36m0\u001b[0m., \u001b[1;36m0\u001b[0m.\u001b[1m]\u001b[0m, \u001b[1m[\u001b[0m\u001b[1;36m0\u001b[0m., \u001b[1;36m0\u001b[0m., \u001b[1;36m0\u001b[0m., \u001b[1;36m0\u001b[0m., \u001b[1;36m0\u001b[0m., \u001b[1;36m0\u001b[0m., \u001b[1;36m0\u001b[0m., \u001b[1;36m0\u001b[0m., \u001b[1;36m0\u001b[0m., \u001b[1;36m0\u001b[0m., \u001b[1;36m0\u001b[0m., \u001b[1;36m0\u001b[0m., \u001b[1;36m0\u001b[0m., \n",
       "\u001b[1;36m0\u001b[0m., \u001b[1;36m0\u001b[0m., \u001b[1;36m0\u001b[0m.\u001b[1m]\u001b[0m, \u001b[1m[\u001b[0m\u001b[1;36m0\u001b[0m., \u001b[1;36m0\u001b[0m., \u001b[1;36m0\u001b[0m., \u001b[1;36m0\u001b[0m., \u001b[1;36m0\u001b[0m., \u001b[1;36m0\u001b[0m., \u001b[1;36m0\u001b[0m., \u001b[1;36m0\u001b[0m., \u001b[1;36m0\u001b[0m., \u001b[1;36m0\u001b[0m., \u001b[1;36m0\u001b[0m., \u001b[1;36m0\u001b[0m., \u001b[1;36m0\u001b[0m., \u001b[1;36m0\u001b[0m., \u001b[1;36m0\u001b[0m., \u001b[1;36m0\u001b[0m.\u001b[1m]\u001b[0m, \u001b[1m[\u001b[0m\u001b[1;36m0\u001b[0m., \u001b[1;36m0\u001b[0m., \u001b[1;36m0\u001b[0m., \u001b[1;36m0\u001b[0m., \u001b[1;36m0\u001b[0m., \u001b[1;36m0\u001b[0m., \u001b[1;36m0\u001b[0m., \u001b[1;36m0\u001b[0m., \u001b[1;36m0\u001b[0m.,\n",
       "\u001b[1;36m0\u001b[0m., \u001b[1;36m0\u001b[0m., \u001b[1;36m0\u001b[0m., \u001b[1;36m0\u001b[0m., \u001b[1;36m0\u001b[0m., \u001b[1;36m0\u001b[0m., \u001b[1;36m0\u001b[0m.\u001b[1m]\u001b[0m, \u001b[1m[\u001b[0m\u001b[1;36m0\u001b[0m., \u001b[1;36m0\u001b[0m., \u001b[1;36m0\u001b[0m., \u001b[1;36m0\u001b[0m., \u001b[1;36m0\u001b[0m., \u001b[1;36m0\u001b[0m., \u001b[1;36m0\u001b[0m., \u001b[1;36m0\u001b[0m., \u001b[1;36m0\u001b[0m., \u001b[1;36m0\u001b[0m., \u001b[1;36m0\u001b[0m., \u001b[1;36m0\u001b[0m., \u001b[1;36m0\u001b[0m., \u001b[1;36m0\u001b[0m., \u001b[1;36m0\u001b[0m., \u001b[1;36m0\u001b[0m.\u001b[1m]\u001b[0m, \u001b[1m[\u001b[0m\u001b[1;36m0\u001b[0m., \u001b[1;36m0\u001b[0m., \u001b[1;36m0\u001b[0m., \u001b[1;36m0\u001b[0m., \u001b[1;36m0\u001b[0m.,\n",
       "\u001b[1;36m0\u001b[0m., \u001b[1;36m0\u001b[0m., \u001b[1;36m0\u001b[0m., \u001b[1;36m0\u001b[0m., \u001b[1;36m0\u001b[0m., \u001b[1;36m0\u001b[0m., \u001b[1;36m0\u001b[0m., \u001b[1;36m0\u001b[0m., \u001b[1;36m0\u001b[0m., \u001b[1;36m0\u001b[0m., \u001b[1;36m0\u001b[0m.\u001b[1m]\u001b[0m\u001b[1m]\u001b[0m, \u001b[33mdtype\u001b[0m=\u001b[35mfloat32\u001b[0m\u001b[1m)\u001b[0m, \u001b[33mname\u001b[0m=\u001b[32m'q_weight'\u001b[0m\u001b[1m)\u001b[0m\n",
       "\n",
       "Min: \u001b[1;36m0.0\u001b[0m, Max: \u001b[1;36m0.0\u001b[0m, NaN count: \u001b[1;36m0\u001b[0m, Inf count: \u001b[1;36m0\u001b[0m\n",
       "Sparsity \u001b[1m(\u001b[0mabs<\u001b[1;36m1e-06\u001b[0m\u001b[1m)\u001b[0m: \u001b[1;36m1.00\u001b[0m\n",
       "Histogram:\n",
       "     \u001b[1;36m256\u001b[0m ┼                                       ╭╮\n",
       "     \u001b[1;36m224\u001b[0m ┤                                       ││\n",
       "     \u001b[1;36m192\u001b[0m ┤                                       ││\n",
       "     \u001b[1;36m160\u001b[0m ┤                                       ││\n",
       "     \u001b[1;36m128\u001b[0m ┤                                       ││\n",
       "      \u001b[1;36m96\u001b[0m ┤                                       ││\n",
       "      \u001b[1;36m64\u001b[0m ┤                                       ││\n",
       "      \u001b[1;36m32\u001b[0m ┤                                       ││\n",
       "       \u001b[1;36m0\u001b[0m ┼───────────────────────────────────────╯╰──────────────────────────────────────\n",
       "    \u001b[1;36m-0.5000\u001b[0m  \u001b[1;36m-0.4000\u001b[0m  \u001b[1;36m-0.3000\u001b[0m  \u001b[1;36m-0.1875\u001b[0m  \u001b[1;36m-0.0875\u001b[0m  \u001b[1;36m0.0250\u001b[0m  \u001b[1;36m0.1125\u001b[0m  \u001b[1;36m0.2125\u001b[0m  \u001b[1;36m0.3000\u001b[0m  \u001b[1;36m0.4000\u001b[0m  \u001b[1;36m0.5000\u001b[0m\n"
      ]
     },
     "metadata": {},
     "output_type": "display_data"
    }
   ],
   "source": [
    "hidden_size = 16\n",
    "\n",
    "model.graph.initializers[\"q_weight\"].const_value = ir.tensor(\n",
    "    np.zeros((hidden_size, hidden_size)).astype(np.float32), name=\"q_weight\"\n",
    ")\n",
    "model.graph.initializers[\"q_weight\"].const_value.display()"
   ]
  },
  {
   "cell_type": "markdown",
   "id": "98851a49",
   "metadata": {},
   "source": [
    "### 3. Build a pass to modify the model (merge QKV weights)"
   ]
  },
  {
   "cell_type": "code",
   "execution_count": 25,
   "id": "36f09674",
   "metadata": {},
   "outputs": [],
   "source": [
    "# Now we want to combine the weights into a single QKV weight matrix\n",
    "\n",
    "for node in model.graph:\n",
    "    if node.op_type != \"Attention\":\n",
    "        continue\n",
    "\n",
    "    # Find the weights for Q, K, V\n",
    "    input_val = node.inputs[0].producer().inputs[0]\n",
    "    q_weight_val = node.inputs[0].producer().inputs[1]\n",
    "    k_weight_val = node.inputs[1].producer().inputs[1]\n",
    "    v_weight_val = node.inputs[2].producer().inputs[1]\n",
    "    assert q_weight_val.const_value is not None and q_weight_val.is_initializer()\n",
    "    assert k_weight_val.const_value is not None and q_weight_val.is_initializer()\n",
    "    assert v_weight_val.const_value is not None and q_weight_val.is_initializer()\n",
    "\n",
    "    qkv_weight = ir.Value(\n",
    "        name=\"qkv_weight\",\n",
    "        type=ir.TensorType(ir.DataType.FLOAT),\n",
    "        shape=ir.Shape([hidden_size, 3 * hidden_size]),\n",
    "        const_value=ir.tensor(\n",
    "            np.concatenate(\n",
    "                [\n",
    "                    q_weight_val.const_value,\n",
    "                    k_weight_val.const_value,\n",
    "                    v_weight_val.const_value,\n",
    "                ],\n",
    "                axis=1,\n",
    "            )\n",
    "        ),\n",
    "    )\n",
    "    # Create a new MatMul node uses the combined Q, K, V weights\n",
    "    combined_matmul_node = ir.node(\"MatMul\", inputs=[input_val, qkv_weight])\n",
    "    new_qkv = ir.node(\n",
    "        \"Split\",\n",
    "        inputs=combined_matmul_node.outputs,\n",
    "        attributes={\n",
    "            \"axis\": 2,\n",
    "            \"num_outputs\": 3,\n",
    "        },\n",
    "        num_outputs=3,\n",
    "    )\n",
    "    # Add the new node to the graph and register the new initializer\n",
    "    node.prepend((combined_matmul_node, new_qkv))\n",
    "    # Reconnect the Attention node to use the new QKV outputs\n",
    "    ir.convenience.replace_all_uses_with(\n",
    "        node.inputs,\n",
    "        new_qkv.outputs,\n",
    "    )\n",
    "    # Add the new initializer to the graph\n",
    "    model.graph.register_initializer(qkv_weight)\n"
   ]
  },
  {
   "cell_type": "code",
   "execution_count": 30,
   "id": "62c92959",
   "metadata": {},
   "outputs": [
    {
     "name": "stdout",
     "output_type": "stream",
     "text": [
      "Combined QKV model:\n",
      "<\n",
      "    ir_version=10,\n",
      "    opset_imports={'': 23},\n",
      "    producer_name=None,\n",
      "    producer_version=None,\n",
      "    domain=None,\n",
      "    model_version=None,\n",
      ">\n",
      "graph(\n",
      "    name=main_graph,\n",
      "    inputs=(\n",
      "        %\"input\"<FLOAT,[2,3,16]>\n",
      "    ),\n",
      "    outputs=(\n",
      "        %\"val_3\"<FLOAT,[2,3,16]>\n",
      "    ),\n",
      "    initializers=(\n",
      "        %\"q_weight\"<FLOAT,[16,16]>{Tensor(...)},\n",
      "        %\"k_weight\"<FLOAT,[16,16]>{Tensor(...)},\n",
      "        %\"v_weight\"<FLOAT,[16,16]>{Tensor(...)},\n",
      "        %\"qkv_weight\"<FLOAT,[16,48]>{Tensor(...)}\n",
      "    ),\n",
      ") {\n",
      "    0 |  # node_MatMul_0\n",
      "         %\"val_0\"<?,?> ⬅️ ::MatMul(%\"input\", %\"q_weight\"{...})\n",
      "    1 |  # node_MatMul_1\n",
      "         %\"val_1\"<?,?> ⬅️ ::MatMul(%\"input\", %\"k_weight\"{...})\n",
      "    2 |  # node_MatMul_2\n",
      "         %\"val_2\"<?,?> ⬅️ ::MatMul(%\"input\", %\"v_weight\"{...})\n",
      "    3 |  # node_MatMul_4\n",
      "         %\"val_4\"<?,?> ⬅️ ::MatMul(%\"input\", %\"qkv_weight\"{...})\n",
      "    4 |  # node_Split_5\n",
      "         %\"val_5\"<?,?>, %\"val_6\"<?,?>, %\"val_7\"<?,?> ⬅️ ::Split(%\"val_4\") {axis=2, num_outputs=3}\n",
      "    5 |  # node_Attention_3\n",
      "         %\"val_3\"<FLOAT,[2,3,16]> ⬅️ ::Attention(%\"val_5\", %\"val_6\", %\"val_7\") {q_num_heads=1, kv_num_heads=1}\n",
      "    return %\"val_3\"<FLOAT,[2,3,16]>\n",
      "}\n",
      "\n",
      "\n",
      "⚠️ There are still unused nodes and initializers.\n"
     ]
    }
   ],
   "source": [
    "print(\"Combined QKV model:\")\n",
    "print(model)\n",
    "print(\"⚠️ There are still unused nodes and initializers.\")"
   ]
  },
  {
   "cell_type": "markdown",
   "id": "dbe6ebc8",
   "metadata": {},
   "source": [
    "### 3.5. Run passes"
   ]
  },
  {
   "cell_type": "code",
   "execution_count": 31,
   "id": "69416d61",
   "metadata": {},
   "outputs": [
    {
     "name": "stdout",
     "output_type": "stream",
     "text": [
      "Model after removing unused nodes:\n",
      "<\n",
      "    ir_version=10,\n",
      "    opset_imports={'': 23},\n",
      "    producer_name=None,\n",
      "    producer_version=None,\n",
      "    domain=None,\n",
      "    model_version=None,\n",
      ">\n",
      "graph(\n",
      "    name=main_graph,\n",
      "    inputs=(\n",
      "        %\"input\"<FLOAT,[2,3,16]>\n",
      "    ),\n",
      "    outputs=(\n",
      "        %\"val_3\"<FLOAT,[2,3,16]>\n",
      "    ),\n",
      "    initializers=(\n",
      "        %\"qkv_weight\"<FLOAT,[16,48]>{Tensor(...)}\n",
      "    ),\n",
      ") {\n",
      "    0 |  # node_MatMul_4\n",
      "         %\"val_4\"<?,?> ⬅️ ::MatMul(%\"input\", %\"qkv_weight\"{...})\n",
      "    1 |  # node_Split_5\n",
      "         %\"val_5\"<?,?>, %\"val_6\"<?,?>, %\"val_7\"<?,?> ⬅️ ::Split(%\"val_4\") {axis=2, num_outputs=3}\n",
      "    2 |  # node_Attention_3\n",
      "         %\"val_3\"<FLOAT,[2,3,16]> ⬅️ ::Attention(%\"val_5\", %\"val_6\", %\"val_7\") {q_num_heads=1, kv_num_heads=1}\n",
      "    return %\"val_3\"<FLOAT,[2,3,16]>\n",
      "}\n",
      "\n",
      "\n"
     ]
    }
   ],
   "source": [
    "import onnx_ir.passes.common as common_passes\n",
    "\n",
    "common_passes.RemoveUnusedNodesPass()(model)\n",
    "\n",
    "print(\"Model after removing unused nodes:\")\n",
    "print(model)"
   ]
  },
  {
   "cell_type": "code",
   "execution_count": 21,
   "id": "0e295db9",
   "metadata": {},
   "outputs": [
    {
     "name": "stdout",
     "output_type": "stream",
     "text": [
      "Model after shape inference:\n",
      "<\n",
      "    ir_version=10,\n",
      "    opset_imports={'': 23},\n",
      "    producer_name=None,\n",
      "    producer_version=None,\n",
      "    domain=None,\n",
      "    model_version=None,\n",
      ">\n",
      "graph(\n",
      "    name=main_graph,\n",
      "    inputs=(\n",
      "        %\"input\"<FLOAT,[2,3,16]>\n",
      "    ),\n",
      "    outputs=(\n",
      "        %\"val_3\"<FLOAT,[2,3,16]>\n",
      "    ),\n",
      "    initializers=(\n",
      "        %\"qkv_weight\"<FLOAT,[16,48]>{Tensor(...)}\n",
      "    ),\n",
      ") {\n",
      "    0 |  # node_MatMul_4\n",
      "         %\"val_4\"<FLOAT,[2,3,48]> ⬅️ ::MatMul(%\"input\", %\"qkv_weight\"{...})\n",
      "    1 |  # node_Split_5\n",
      "         %\"val_5\"<FLOAT,[2,3,16]>, %\"val_6\"<FLOAT,[2,3,16]>, %\"val_7\"<FLOAT,[2,3,16]> ⬅️ ::Split(%\"val_4\") {axis=2, num_outputs=3}\n",
      "    2 |  # node_Attention_3\n",
      "         %\"val_3\"<FLOAT,[2,3,16]> ⬅️ ::Attention(%\"val_5\", %\"val_6\", %\"val_7\") {q_num_heads=1, kv_num_heads=1}\n",
      "    return %\"val_3\"<FLOAT,[2,3,16]>\n",
      "}\n",
      "\n",
      "\n"
     ]
    }
   ],
   "source": [
    "common_passes.ShapeInferencePass()(model)\n",
    "\n",
    "print(\"Model after shape inference:\")\n",
    "print(model)"
   ]
  },
  {
   "cell_type": "markdown",
   "id": "a1ffbe3c",
   "metadata": {},
   "source": [
    "### 4. Use rewriter to do the same thing"
   ]
  },
  {
   "cell_type": "code",
   "execution_count": null,
   "id": "a2200331",
   "metadata": {},
   "outputs": [
    {
     "name": "stdout",
     "output_type": "stream",
     "text": [
      "<\n",
      "    ir_version=10,\n",
      "    opset_imports={'': 23},\n",
      "    producer_name=None,\n",
      "    producer_version=None,\n",
      "    domain=None,\n",
      "    model_version=None,\n",
      ">\n",
      "graph(\n",
      "    name=main_graph,\n",
      "    inputs=(\n",
      "        %\"input\"<FLOAT,[2,3,16]>\n",
      "    ),\n",
      "    outputs=(\n",
      "        %\"val_3\"<FLOAT,[2,3,16]>\n",
      "    ),\n",
      "    initializers=(\n",
      "        %\"qkv_weight\"<FLOAT,[16,48]>{Tensor(...)}\n",
      "    ),\n",
      ") {\n",
      "    0 |  # node_MatMul_4\n",
      "         %\"val_4\"<FLOAT,[2,3,48]> ⬅️ ::MatMul(%\"input\", %\"qkv_weight\"{...})\n",
      "    1 |  # node_Split_5\n",
      "         %\"val_5\"<FLOAT,[2,3,16]>, %\"val_6\"<FLOAT,[2,3,16]>, %\"val_7\"<FLOAT,[2,3,16]> ⬅️ ::Split(%\"val_4\") {axis=2, num_outputs=3}\n",
      "    2 |  # node_Attention_6\n",
      "         %\"val_3\"<FLOAT,[2,3,16]> ⬅️ ::Attention(%\"val_5\", %\"val_6\", %\"val_7\") {q_num_heads=1, kv_num_heads=1}\n",
      "    return %\"val_3\"<FLOAT,[2,3,16]>\n",
      "}\n",
      "\n",
      "\n"
     ]
    }
   ],
   "source": [
    "# Now use the rewriter\n",
    "\n",
    "import onnxscript.rewriter as rewriter\n",
    "\n",
    "\n",
    "class CombineQKVWeights(rewriter.pattern.RewriteRuleClassBase):\n",
    "    def pattern(cls, op, input, q_weight, k_weight, v_weight):\n",
    "        # Define the pattern to match here\n",
    "        q = op.MatMul(input, q_weight)\n",
    "        k = op.MatMul(input, k_weight)\n",
    "        v = op.MatMul(input, v_weight)\n",
    "        return op.Attention(q, k, v, q_num_heads=1, kv_num_heads=1)\n",
    "\n",
    "    def rewrite(cls, op, input: ir.Value, q_weight: ir.Value, k_weight: ir.Value, v_weight: ir.Value):\n",
    "        # Define the rewrite logic here\n",
    "        qkv_weight = op.initializer(\n",
    "            ir.tensor(\n",
    "                np.concatenate(\n",
    "                    [\n",
    "                        q_weight.const_value.numpy(),\n",
    "                        k_weight.const_value.numpy(),\n",
    "                        v_weight.const_value.numpy(),\n",
    "                    ],\n",
    "                    axis=1,\n",
    "                )\n",
    "            ),\n",
    "            name=\"qkv_weight\",\n",
    "        )\n",
    "        combined_matmul = op.MatMul(input, qkv_weight)\n",
    "        new_q, new_k, new_v = op.Split(\n",
    "            combined_matmul, axis=2, num_outputs=3, _outputs=3\n",
    "        )\n",
    "        return op.Attention(new_q, new_k, new_v, q_num_heads=1, kv_num_heads=1)\n",
    "\n",
    "\n",
    "model = build_model()\n",
    "# Create the rewrite rule\n",
    "rule = CombineQKVWeights.rule()\n",
    "# Apply the rewrite rule to the model\n",
    "rule.apply_to_model(model)\n",
    "# Clean up and run shape inference. Note that you can use the Sequential pass to chain multiple passes together.\n",
    "ir.passes.Sequential(\n",
    "    # onnxscript.rewriter.RewritePass([rule]),  # You can use it as a pass as well\n",
    "    common_passes.RemoveUnusedNodesPass(),\n",
    "    common_passes.ShapeInferencePass(),\n",
    ")(model)\n",
    "\n",
    "print(model)"
   ]
  },
  {
   "cell_type": "markdown",
   "id": "533cab58",
   "metadata": {},
   "source": [
    "### 5. Show it on model explorer"
   ]
  },
  {
   "cell_type": "code",
   "execution_count": 35,
   "id": "d9521cc4",
   "metadata": {},
   "outputs": [],
   "source": [
    "ir.save(model, \"merged_qkv.onnx\")"
   ]
  },
  {
   "cell_type": "code",
   "execution_count": null,
   "id": "8fca9b7d",
   "metadata": {},
   "outputs": [],
   "source": [
    "# !onnxvis merged_qkv.onnx\n",
    "\n",
    "# import model_explorer\n",
    "\n",
    "# model_explorer.visualize(\"merged_qkv.onnx\", extensions=[\"model_explorer_onnx\"])"
   ]
  },
  {
   "cell_type": "markdown",
   "id": "e7b27674",
   "metadata": {},
   "source": []
  }
 ],
 "metadata": {
  "kernelspec": {
   "display_name": ".venv",
   "language": "python",
   "name": "python3"
  },
  "language_info": {
   "codemirror_mode": {
    "name": "ipython",
    "version": 3
   },
   "file_extension": ".py",
   "mimetype": "text/x-python",
   "name": "python",
   "nbconvert_exporter": "python",
   "pygments_lexer": "ipython3",
   "version": "3.12.3"
  }
 },
 "nbformat": 4,
 "nbformat_minor": 5
}
